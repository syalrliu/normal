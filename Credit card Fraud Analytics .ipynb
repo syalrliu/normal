{
 "cells": [
  {
   "cell_type": "code",
   "execution_count": 2,
   "metadata": {},
   "outputs": [],
   "source": [
    "import pandas as pd\n",
    "import numpy as np\n",
    "import scipy.stats as sps\n",
    "import matplotlib.pyplot as plt\n",
    "import seaborn as sns\n",
    "import sklearn as skl\n",
    "from sklearn import preprocessing\n",
    "import math\n",
    "from datetime import datetime\n",
    "%matplotlib inline"
   ]
  },
  {
   "cell_type": "code",
   "execution_count": 2,
   "metadata": {},
   "outputs": [],
   "source": [
    "data=pd.read_csv(\"applications data.csv\")\n",
    "data=pd.DataFrame(data)"
   ]
  },
  {
   "cell_type": "code",
   "execution_count": 3,
   "metadata": {},
   "outputs": [],
   "source": [
    "data['date'] = data['date'].apply(lambda x: pd.to_datetime(str(x), format='%Y%m%d'))"
   ]
  },
  {
   "cell_type": "code",
   "execution_count": 4,
   "metadata": {},
   "outputs": [
    {
     "data": {
      "text/plain": [
       "0"
      ]
     },
     "execution_count": 4,
     "metadata": {},
     "output_type": "execute_result"
    }
   ],
   "source": [
    "pd.to_datetime(\"2012-10-01 12:35:53\").weekday()"
   ]
  },
  {
   "cell_type": "code",
   "execution_count": 54,
   "metadata": {},
   "outputs": [],
   "source": [
    "data.loc[data[\"ssn\"]==999999999,'ssn'] = data.loc[data[\"ssn\"]==999999999,'record']\n",
    "data.loc[data[\"address\"]==\"123 MAIN ST\",'address'] = data.loc[data[\"address\"]==\"123 MAIN ST\",'record']\n",
    "data.loc[data[\"dob\"]==19070626,'dob'] = data.loc[data[\"dob\"]==19070626,'record']\n",
    "data.loc[data[\"homephone\"]==9999999999,\"homephone\"] = data.loc[data[\"homephone\"]==9999999999,'record']"
   ]
  },
  {
   "cell_type": "code",
   "execution_count": 22,
   "metadata": {},
   "outputs": [],
   "source": [
    "data[\"nameDOB\"]=data[\"firstname\"]+data[\"lastname\"]+data['dob'].apply(lambda x: str(x))"
   ]
  },
  {
   "cell_type": "code",
   "execution_count": 23,
   "metadata": {},
   "outputs": [],
   "source": [
    "data[\"fulladdress\"]=data[\"address\"].apply(lambda x: str(x))+data['zip5'].apply(lambda x: str(x))"
   ]
  },
  {
   "cell_type": "code",
   "execution_count": 24,
   "metadata": {},
   "outputs": [
    {
     "data": {
      "text/plain": [
       "[['ssn', 'firstname'],\n",
       " ['ssn', 'lastname'],\n",
       " ['ssn', 'address'],\n",
       " ['ssn', 'homephone'],\n",
       " ['ssn', 'zip5'],\n",
       " ['ssn', 'dob'],\n",
       " ['ssn', 'nameDOB'],\n",
       " ['ssn', 'fulladdress'],\n",
       " ['firstname', 'lastname'],\n",
       " ['firstname', 'address'],\n",
       " ['firstname', 'homephone'],\n",
       " ['firstname', 'zip5'],\n",
       " ['firstname', 'dob'],\n",
       " ['firstname', 'nameDOB'],\n",
       " ['firstname', 'fulladdress'],\n",
       " ['lastname', 'address'],\n",
       " ['lastname', 'homephone'],\n",
       " ['lastname', 'zip5'],\n",
       " ['lastname', 'dob'],\n",
       " ['lastname', 'nameDOB'],\n",
       " ['lastname', 'fulladdress'],\n",
       " ['address', 'homephone'],\n",
       " ['address', 'zip5'],\n",
       " ['address', 'dob'],\n",
       " ['address', 'nameDOB'],\n",
       " ['address', 'fulladdress'],\n",
       " ['homephone', 'zip5'],\n",
       " ['homephone', 'dob'],\n",
       " ['homephone', 'nameDOB'],\n",
       " ['homephone', 'fulladdress'],\n",
       " ['zip5', 'dob'],\n",
       " ['zip5', 'nameDOB'],\n",
       " ['zip5', 'fulladdress'],\n",
       " ['dob', 'nameDOB'],\n",
       " ['dob', 'fulladdress'],\n",
       " ['nameDOB', 'fulladdress']]"
      ]
     },
     "execution_count": 24,
     "metadata": {},
     "output_type": "execute_result"
    }
   ],
   "source": [
    "var=['ssn','firstname','lastname','address','homephone','zip5','dob','nameDOB','fulladdress']\n",
    "comb=[]\n",
    "for i in range(len(var)):\n",
    "    for j in range(i+1,len(var)):\n",
    "            comb.append([var[i],var[j]])\n",
    "comb"
   ]
  },
  {
   "cell_type": "code",
   "execution_count": 72,
   "metadata": {},
   "outputs": [
    {
     "data": {
      "text/plain": [
       "[['homephone', 'zip5'],\n",
       " ['homephone', 'dob'],\n",
       " ['homephone', 'nameDOB'],\n",
       " ['homephone', 'fulladdress']]"
      ]
     },
     "execution_count": 72,
     "metadata": {},
     "output_type": "execute_result"
    }
   ],
   "source": [
    "comb1=comb[26:30]\n",
    "comb1"
   ]
  },
  {
   "cell_type": "code",
   "execution_count": null,
   "metadata": {},
   "outputs": [],
   "source": [
    "data_sorted=data\n",
    "for groupbyvar in [\"ssn\",\"fulladdress\",\"nameDOB\",\"homephone\"]:\n",
    "    data_sorted = data_sorted.sort_values(by = [groupbyvar, 'date'])\n",
    "    data_sorted_index = data_sorted.set_index('date')\n",
    "    for days in ['3d', '7d', '14d', '30d','60d']:\n",
    "        data_sorted[\"num\" + '_' + groupbyvar + \"_\" + days]=getattr(data_sorted_index.groupby(groupbyvar)['record'].rolling(days),\"count\")().values\n",
    "        "
   ]
  },
  {
   "cell_type": "code",
   "execution_count": null,
   "metadata": {},
   "outputs": [],
   "source": [
    "for groupbyvar in comb:\n",
    "    data_sorted = data_sorted.sort_values(by = [groupbyvar[0],groupbyvar[1],'date'])\n",
    "    data_sorted_index = data_sorted.set_index('date')\n",
    "    for days in ['3d', '7d', '14d', '30d','60d']:\n",
    "        data_sorted[\"num\" + '_' + groupbyvar[0]+groupbyvar[1] + \"_\" + days]=getattr(data_sorted_index.groupby(groupbyvar)['record'].rolling(days),\"count\")().values"
   ]
  },
  {
   "cell_type": "code",
   "execution_count": 73,
   "metadata": {},
   "outputs": [],
   "source": [
    "data_sorted=data\n",
    "for groupbyvar in comb1:\n",
    "    sortCols = groupbyvar[:]\n",
    "    sortCols.append('date')\n",
    "    data_sorted = data_sorted.sort_values(by = sortCols)\n",
    "    if len(groupbyvar) == 1:\n",
    "        data_sorted['Days_since_per_' + groupbyvar[0]] = data_sorted.groupby(groupbyvar)['date'].apply(lambda x: (x - x.shift(1)).astype('timedelta64[D]')).fillna(365).values\n",
    "    else:\n",
    "        data_sorted['Days_since_per' +groupbyvar[0]+groupbyvar[1]] = data_sorted.groupby(groupbyvar)['date'].apply(lambda x: (x-x.shift(1)).astype('timedelta64[D]')).fillna(365).values"
   ]
  },
  {
   "cell_type": "code",
   "execution_count": 77,
   "metadata": {},
   "outputs": [],
   "source": [
    "phone=data_sorted\n",
    "phone=phone.sort_values(by=[\"record\"])\n",
    "phone=phone.iloc[:,12:]"
   ]
  },
  {
   "cell_type": "code",
   "execution_count": 33,
   "metadata": {},
   "outputs": [],
   "source": [
    "ssn=pd.read_csv(\"ssn.csv\")\n",
    "lastname=pd.read_csv(\"lastname.csv\")\n",
    "addr=pd.read_csv(\"address_days_since.csv\")\n",
    "ent=pd.read_csv(\"four entities.csv\")\n",
    "zip5=pd.read_csv(\"zip5_day_since.csv\")"
   ]
  },
  {
   "cell_type": "code",
   "execution_count": 83,
   "metadata": {},
   "outputs": [],
   "source": [
    "dob=pd.read_csv(\"dob.csv\")\n",
    "dob=dob.sort_values(by=[\"record\"])\n",
    "dob=dob.iloc[:,2:]"
   ]
  },
  {
   "cell_type": "code",
   "execution_count": 37,
   "metadata": {},
   "outputs": [],
   "source": [
    "zip5=zip5.sort_values(by=[\"record\"])\n",
    "zip5=zip5.iloc[:,13:]\n",
    "ent=ent.sort_values(by=[\"record\"])\n",
    "ent=ent.iloc[:,15:]\n",
    "ssn=data_sorted.sort_values(by=[\"record\"])\n",
    "addr=addr.sort_values(by=[\"record\"])\n",
    "addr=addr.iloc[:,13:]\n",
    "lastname=lastname.iloc[:,2:]"
   ]
  },
  {
   "cell_type": "code",
   "execution_count": 103,
   "metadata": {},
   "outputs": [],
   "source": [
    "daysince=pd.concat([ssn,lastname,addr,ent,phone,dob,zip5],axis=1)"
   ]
  },
  {
   "cell_type": "code",
   "execution_count": 36,
   "metadata": {},
   "outputs": [
    {
     "data": {
      "text/plain": [
       "Index([False, False, False, False, False, False, False, False, False, False,\n",
       "       ...\n",
       "       False, False, False, False, False, False, False, False, False, False],\n",
       "      dtype='object', length=345)"
      ]
     },
     "execution_count": 36,
     "metadata": {},
     "output_type": "execute_result"
    }
   ],
   "source": [
    "newcol = pd.Index(newdata.columns.str.contains(\"week\",regex=False))\n",
    "newcol"
   ]
  },
  {
   "cell_type": "code",
   "execution_count": 47,
   "metadata": {
    "scrolled": true
   },
   "outputs": [
    {
     "name": "stdout",
     "output_type": "stream",
     "text": [
      "import pandas as pd\n",
      "import numpy as np\n",
      "import scipy.stats as sps\n",
      "import matplotlib.pyplot as plt\n",
      "import seaborn as sns\n",
      "import sklearn as skl\n",
      "from sklearn import preprocessing\n",
      "import math\n",
      "from datetime import datetime\n",
      "%matplotlib inline\n",
      "newdata=pd.read_csv(\"finaldata.csv\")\n",
      "newdata.head()\n",
      "newdata.columns\n",
      "len(newdata.columns)\n",
      "newdata.head()\n",
      "newdata.columns.str_contains(\"risk\")\n",
      "list(newdata.columns).str_contains(\"risk\")\n",
      "list(newdata.columns).apply(x: x.str_contains(\"risk\"))\n",
      "list(newdata.columns).apply(x:x.str_contains(\"risk\"))\n",
      "aaa=list(newdata.columns).\n",
      "aaa.apply(x:x.str_contains(\"risk\"))\n",
      "aaa=list(newdata.columns)\n",
      "aaa.apply(x:x.str_contains(\"risk\"))\n",
      "aaa=list(newdata.columns)\n",
      "aaa.apply(lambda x:x.str_contains(\"risk\"))\n",
      "aaa=pd.Series(newdata.columns)\n",
      "aaa.apply(lambda x:x.str_contains(\"risk\"))\n",
      "\n",
      "newdata.index.apply(lambda x:x.str_contains(\"risk\"))\n",
      "newdata.Index.apply(lambda x:x.str_contains(\"risk\"))\n",
      "pd.Index(newdata.columns).apply(lambda x:x.str_contains(\"risk\"))\n",
      "newdata.index\n",
      "newdata.columns\n",
      "newdata.columns.str_contains(\"risk\")\n",
      "newdata.columns.str_contains(\"risk\",regex=False)\n",
      "newdata.columns.str.contains(\"risk\",regex=False)\n",
      "pd.Index(newdata.columns.str.contains(\"risk\",regex=False))\n",
      "newcol = pd.Index(newdata.columns.str.contains(\"risk\",regex=False))\n",
      "newcol\n",
      "newdata[newcol]\n",
      "newdata.columns[newcol]\n",
      "newdata.loc[:,newcol]\n",
      "newdata.loc[:,-newcol]\n",
      "newdata.loc[:,newcol]\n",
      "newcol = pd.Index(newdata.columns.str.contains(\"week\",regex=False))\n",
      "newcol\n",
      "newdata.loc[:,newcol]\n",
      "a = newdata.pop(\"weekday_risk\")\n",
      "a = newdata.pop(\"weekday_risk\")\n",
      "newdata.loc[:,newcol]\n",
      "newcol = pd.Index(newdata.columns.str.contains(\"week\",regex=False))\n",
      "newcol\n",
      "newdata.loc[:,newcol]\n",
      "a = newdata.pop(\"weekday_risk\")\n",
      "newdata.loc[:,\"weekday_risk\"]\n",
      "a = newdata.pop(\"weekdays_risk\")\n",
      "a = newdata.pop(\"weekday\")\n",
      "a = newdata.pop(\"weekdays\")\n",
      "newdata.loc[:,\"weekday\"]\n",
      "newdata.loc[:,\"weekdays\"]\n",
      "a\n",
      "newdata=pd.read_csv(\"finaldata.csv\")\n",
      "history\n"
     ]
    }
   ],
   "source": [
    "pd.Index(newdata.columns).apply(lambda x:x.str_contains(\"risk\"))"
   ]
  },
  {
   "cell_type": "code",
   "execution_count": null,
   "metadata": {},
   "outputs": [],
   "source": [
    "df_merge=pd.read_csv(\"df_merged.csv\")\n",
    "df_merge=df_merge.iloc[:,1:]"
   ]
  },
  {
   "cell_type": "code",
   "execution_count": 122,
   "metadata": {},
   "outputs": [
    {
     "data": {
      "text/plain": [
       "1000000"
      ]
     },
     "execution_count": 122,
     "metadata": {},
     "output_type": "execute_result"
    }
   ],
   "source": [
    "len(df_merge)"
   ]
  },
  {
   "cell_type": "code",
   "execution_count": 110,
   "metadata": {},
   "outputs": [],
   "source": [
    "#daysince.to_csv(\"daysince.csv\")\n",
    "ds=daysince.iloc[:,12:]"
   ]
  },
  {
   "cell_type": "code",
   "execution_count": 111,
   "metadata": {
    "scrolled": true
   },
   "outputs": [],
   "source": [
    "#ds[\"fraud_label\"]=daysince[\"fraud_label\"]\n",
    "newdata=pd.concat([df_merge,ds],axis=1)"
   ]
  },
  {
   "cell_type": "code",
   "execution_count": 8,
   "metadata": {
    "scrolled": true
   },
   "outputs": [],
   "source": [
    "newdata=pd.read_csv(\"finaldata.csv\")"
   ]
  },
  {
   "cell_type": "code",
   "execution_count": 9,
   "metadata": {
    "scrolled": true
   },
   "outputs": [
    {
     "data": {
      "text/html": [
       "<div>\n",
       "<style scoped>\n",
       "    .dataframe tbody tr th:only-of-type {\n",
       "        vertical-align: middle;\n",
       "    }\n",
       "\n",
       "    .dataframe tbody tr th {\n",
       "        vertical-align: top;\n",
       "    }\n",
       "\n",
       "    .dataframe thead th {\n",
       "        text-align: right;\n",
       "    }\n",
       "</style>\n",
       "<table border=\"1\" class=\"dataframe\">\n",
       "  <thead>\n",
       "    <tr style=\"text-align: right;\">\n",
       "      <th></th>\n",
       "      <th>Unnamed: 0</th>\n",
       "      <th>record</th>\n",
       "      <th>ssn_0</th>\n",
       "      <th>ssn_1</th>\n",
       "      <th>ssn_3</th>\n",
       "      <th>ssn_7</th>\n",
       "      <th>ssn_14</th>\n",
       "      <th>ssn_30</th>\n",
       "      <th>namedob_0</th>\n",
       "      <th>namedob_1</th>\n",
       "      <th>...</th>\n",
       "      <th>Days_since_perhomephonezip5</th>\n",
       "      <th>Days_since_perhomephonedob</th>\n",
       "      <th>Days_since_perhomephonenameDOB</th>\n",
       "      <th>Days_since_perhomephonefulladdress</th>\n",
       "      <th>Danamedob_since_perdobnamedob</th>\n",
       "      <th>Dafulladdress_since_perdobfulladdress</th>\n",
       "      <th>Dafulladdress_since_pernamedobfulladdress</th>\n",
       "      <th>Days_since_per_zip5_dob</th>\n",
       "      <th>Days_since_per_zip5_nameDOB</th>\n",
       "      <th>Days_since_per_zip5_fulladdress</th>\n",
       "    </tr>\n",
       "  </thead>\n",
       "  <tbody>\n",
       "    <tr>\n",
       "      <th>0</th>\n",
       "      <td>0</td>\n",
       "      <td>1</td>\n",
       "      <td>0</td>\n",
       "      <td>0</td>\n",
       "      <td>0</td>\n",
       "      <td>0</td>\n",
       "      <td>0</td>\n",
       "      <td>0</td>\n",
       "      <td>0</td>\n",
       "      <td>0</td>\n",
       "      <td>...</td>\n",
       "      <td>365.0</td>\n",
       "      <td>365.0</td>\n",
       "      <td>365.0</td>\n",
       "      <td>365.0</td>\n",
       "      <td>365</td>\n",
       "      <td>365</td>\n",
       "      <td>365</td>\n",
       "      <td>365.0</td>\n",
       "      <td>365.0</td>\n",
       "      <td>365.0</td>\n",
       "    </tr>\n",
       "    <tr>\n",
       "      <th>1</th>\n",
       "      <td>1</td>\n",
       "      <td>2</td>\n",
       "      <td>0</td>\n",
       "      <td>0</td>\n",
       "      <td>0</td>\n",
       "      <td>0</td>\n",
       "      <td>0</td>\n",
       "      <td>0</td>\n",
       "      <td>0</td>\n",
       "      <td>0</td>\n",
       "      <td>...</td>\n",
       "      <td>365.0</td>\n",
       "      <td>365.0</td>\n",
       "      <td>365.0</td>\n",
       "      <td>365.0</td>\n",
       "      <td>365</td>\n",
       "      <td>365</td>\n",
       "      <td>365</td>\n",
       "      <td>365.0</td>\n",
       "      <td>365.0</td>\n",
       "      <td>365.0</td>\n",
       "    </tr>\n",
       "    <tr>\n",
       "      <th>2</th>\n",
       "      <td>2</td>\n",
       "      <td>3</td>\n",
       "      <td>0</td>\n",
       "      <td>0</td>\n",
       "      <td>0</td>\n",
       "      <td>0</td>\n",
       "      <td>0</td>\n",
       "      <td>0</td>\n",
       "      <td>0</td>\n",
       "      <td>0</td>\n",
       "      <td>...</td>\n",
       "      <td>365.0</td>\n",
       "      <td>365.0</td>\n",
       "      <td>365.0</td>\n",
       "      <td>365.0</td>\n",
       "      <td>365</td>\n",
       "      <td>365</td>\n",
       "      <td>365</td>\n",
       "      <td>365.0</td>\n",
       "      <td>365.0</td>\n",
       "      <td>365.0</td>\n",
       "    </tr>\n",
       "    <tr>\n",
       "      <th>3</th>\n",
       "      <td>3</td>\n",
       "      <td>4</td>\n",
       "      <td>0</td>\n",
       "      <td>0</td>\n",
       "      <td>0</td>\n",
       "      <td>0</td>\n",
       "      <td>0</td>\n",
       "      <td>0</td>\n",
       "      <td>0</td>\n",
       "      <td>0</td>\n",
       "      <td>...</td>\n",
       "      <td>365.0</td>\n",
       "      <td>365.0</td>\n",
       "      <td>365.0</td>\n",
       "      <td>365.0</td>\n",
       "      <td>365</td>\n",
       "      <td>365</td>\n",
       "      <td>365</td>\n",
       "      <td>365.0</td>\n",
       "      <td>365.0</td>\n",
       "      <td>365.0</td>\n",
       "    </tr>\n",
       "    <tr>\n",
       "      <th>4</th>\n",
       "      <td>4</td>\n",
       "      <td>5</td>\n",
       "      <td>0</td>\n",
       "      <td>0</td>\n",
       "      <td>0</td>\n",
       "      <td>0</td>\n",
       "      <td>0</td>\n",
       "      <td>0</td>\n",
       "      <td>0</td>\n",
       "      <td>0</td>\n",
       "      <td>...</td>\n",
       "      <td>365.0</td>\n",
       "      <td>365.0</td>\n",
       "      <td>365.0</td>\n",
       "      <td>365.0</td>\n",
       "      <td>365</td>\n",
       "      <td>365</td>\n",
       "      <td>365</td>\n",
       "      <td>365.0</td>\n",
       "      <td>365.0</td>\n",
       "      <td>365.0</td>\n",
       "    </tr>\n",
       "  </tbody>\n",
       "</table>\n",
       "<p>5 rows × 346 columns</p>\n",
       "</div>"
      ],
      "text/plain": [
       "   Unnamed: 0  record  ssn_0  ssn_1  ssn_3  ssn_7  ssn_14  ssn_30  namedob_0  \\\n",
       "0           0       1      0      0      0      0       0       0          0   \n",
       "1           1       2      0      0      0      0       0       0          0   \n",
       "2           2       3      0      0      0      0       0       0          0   \n",
       "3           3       4      0      0      0      0       0       0          0   \n",
       "4           4       5      0      0      0      0       0       0          0   \n",
       "\n",
       "   namedob_1               ...                 Days_since_perhomephonezip5  \\\n",
       "0          0               ...                                       365.0   \n",
       "1          0               ...                                       365.0   \n",
       "2          0               ...                                       365.0   \n",
       "3          0               ...                                       365.0   \n",
       "4          0               ...                                       365.0   \n",
       "\n",
       "   Days_since_perhomephonedob  Days_since_perhomephonenameDOB  \\\n",
       "0                       365.0                           365.0   \n",
       "1                       365.0                           365.0   \n",
       "2                       365.0                           365.0   \n",
       "3                       365.0                           365.0   \n",
       "4                       365.0                           365.0   \n",
       "\n",
       "   Days_since_perhomephonefulladdress  Danamedob_since_perdobnamedob  \\\n",
       "0                               365.0                            365   \n",
       "1                               365.0                            365   \n",
       "2                               365.0                            365   \n",
       "3                               365.0                            365   \n",
       "4                               365.0                            365   \n",
       "\n",
       "   Dafulladdress_since_perdobfulladdress  \\\n",
       "0                                    365   \n",
       "1                                    365   \n",
       "2                                    365   \n",
       "3                                    365   \n",
       "4                                    365   \n",
       "\n",
       "   Dafulladdress_since_pernamedobfulladdress  Days_since_per_zip5_dob  \\\n",
       "0                                        365                    365.0   \n",
       "1                                        365                    365.0   \n",
       "2                                        365                    365.0   \n",
       "3                                        365                    365.0   \n",
       "4                                        365                    365.0   \n",
       "\n",
       "   Days_since_per_zip5_nameDOB  Days_since_per_zip5_fulladdress  \n",
       "0                        365.0                            365.0  \n",
       "1                        365.0                            365.0  \n",
       "2                        365.0                            365.0  \n",
       "3                        365.0                            365.0  \n",
       "4                        365.0                            365.0  \n",
       "\n",
       "[5 rows x 346 columns]"
      ]
     },
     "execution_count": 9,
     "metadata": {},
     "output_type": "execute_result"
    }
   ],
   "source": [
    "newdata.head()"
   ]
  },
  {
   "cell_type": "code",
   "execution_count": 14,
   "metadata": {},
   "outputs": [],
   "source": [
    "newcol = pd.Index(newdata.columns.str.contains(\"risk\"))"
   ]
  },
  {
   "cell_type": "code",
   "execution_count": 15,
   "metadata": {},
   "outputs": [],
   "source": [
    "zip_wd=pd.read_csv(\"selection.csv\")\n",
    "zip_wd=zip_wd.drop([\"Unnamed: 0\",\"record\"],axis=1)"
   ]
  },
  {
   "cell_type": "code",
   "execution_count": 16,
   "metadata": {},
   "outputs": [],
   "source": [
    "a= newdata[['weekday_risk',\"weekday\"]]"
   ]
  },
  {
   "cell_type": "code",
   "execution_count": 17,
   "metadata": {},
   "outputs": [],
   "source": [
    "risk_table = pd.DataFrame(newdata[['weekday','weekday_risk']].groupby('weekday')['weekday_risk'].mean())"
   ]
  },
  {
   "cell_type": "code",
   "execution_count": 18,
   "metadata": {},
   "outputs": [],
   "source": [
    "col=newdata.loc[:,newcol].columns\n",
    "c=[]\n",
    "for i in col:\n",
    "    c.append(i)"
   ]
  },
  {
   "cell_type": "code",
   "execution_count": 19,
   "metadata": {},
   "outputs": [],
   "source": [
    "newdata = newdata.drop(c,axis=1)"
   ]
  },
  {
   "cell_type": "code",
   "execution_count": 20,
   "metadata": {},
   "outputs": [
    {
     "data": {
      "text/plain": [
       "(1000000, 280)"
      ]
     },
     "execution_count": 20,
     "metadata": {},
     "output_type": "execute_result"
    }
   ],
   "source": [
    "newdata.shape"
   ]
  },
  {
   "cell_type": "code",
   "execution_count": 21,
   "metadata": {},
   "outputs": [],
   "source": [
    "newdata[\"zip3_risk\"]=zip_wd[\"zip3_risk\"]\n",
    "newdata[\"weekday_risk\"]=zip_wd[\"weekday_risk\"]\n",
    "newdata=newdata.drop([\"Unnamed: 0\",\"record\"],axis=1)"
   ]
  },
  {
   "cell_type": "code",
   "execution_count": 156,
   "metadata": {},
   "outputs": [],
   "source": [
    "var=pd.read_csv(\"var.csv\")"
   ]
  },
  {
   "cell_type": "code",
   "execution_count": 157,
   "metadata": {},
   "outputs": [],
   "source": [
    "hhdata=newdata.iloc[:,242:]\n",
    "newdata=pd.concat([hhdata,var],axis=1)\n",
    "newdata=newdata.drop([\"Unnamed: 0\",\"record\"],axis=1)"
   ]
  },
  {
   "cell_type": "code",
   "execution_count": 164,
   "metadata": {},
   "outputs": [],
   "source": [
    "newdata[\"date\"]=app[\"date\"]"
   ]
  },
  {
   "cell_type": "markdown",
   "metadata": {},
   "source": [
    "# ks"
   ]
  },
  {
   "cell_type": "code",
   "execution_count": 166,
   "metadata": {},
   "outputs": [
    {
     "name": "stderr",
     "output_type": "stream",
     "text": [
      "/anaconda3/lib/python3.7/site-packages/ipykernel_launcher.py:3: SettingWithCopyWarning: \n",
      "A value is trying to be set on a copy of a slice from a DataFrame.\n",
      "Try using .loc[row_indexer,col_indexer] = value instead\n",
      "\n",
      "See the caveats in the documentation: http://pandas.pydata.org/pandas-docs/stable/indexing.html#indexing-view-versus-copy\n",
      "  This is separate from the ipykernel package so we can avoid doing imports until\n"
     ]
    }
   ],
   "source": [
    "ks=newdata\n",
    "ks=ks[ks.date<\"2016-11-01\"] # get traing+testing data before 11/01/2016\n",
    "ks['rv']=np.random.randn(len(ks['date'])) # add random column\n",
    "good_ks=ks.loc[ks.fraud_label==0,:]\n",
    "bad_ks=ks.loc[ks.fraud_label==1,:]\n",
    "var_name=ks.columns.values\n",
    "ks_dic={}\n",
    "for i in var_name:\n",
    "    ks_dic[i]=sps.ks_2samp(good_ks[i],bad_ks[i])[0]  # get ks score"
   ]
  },
  {
   "cell_type": "markdown",
   "metadata": {},
   "source": [
    "# fdr"
   ]
  },
  {
   "cell_type": "code",
   "execution_count": 167,
   "metadata": {},
   "outputs": [],
   "source": [
    "n=len(ks['date'])\n",
    "f_num=len(newdata.loc[newdata.fraud_label==1,:])\n",
    "fdr={}\n",
    "for i in var_name:\n",
    "    f=ks.sort_values(by=i,ascending=False)\n",
    "    f1=f.iloc[:int(0.03*n),]\n",
    "    f2=f.iloc[int(0.97*n):,]\n",
    "    f1_fdr=np.mean(f1.fraud_label)*int(0.03*n)/f_num\n",
    "    f2_fdr=np.mean(f2.fraud_label)*int(0.03*n)/f_num\n",
    "    f_score=max(f1_fdr,f2_fdr)\n",
    "    fdr[i]=f_score"
   ]
  },
  {
   "cell_type": "markdown",
   "metadata": {},
   "source": [
    "# Build ks and fdr table"
   ]
  },
  {
   "cell_type": "code",
   "execution_count": 168,
   "metadata": {},
   "outputs": [],
   "source": [
    "kstable=pd.Series(ks_dic).sort_values(ascending=False)\n",
    "kstable=pd.DataFrame(kstable).reset_index()\n",
    "\n",
    "fdrtable=pd.Series(fdr).sort_values(ascending=False)\n",
    "fdrtable=pd.DataFrame(fdrtable).reset_index()\n",
    "\n",
    "kstable.columns=[\"variable\",\"ks\"]\n",
    "fdrtable.columns=[\"variable\",\"fdr\"]\n",
    "\n",
    "ks_fdr=kstable.merge(fdrtable,on=\"variable\", how='left')\n",
    "\n",
    "ks_rank=pd.DataFrame.rank(ks_fdr['ks'],ascending=False)\n",
    "fdr_rank=pd.DataFrame.rank(ks_fdr['fdr'],ascending=False)\n",
    "\n",
    "ks_fdr['ks rank']=pd.Series(ks_rank)\n",
    "ks_fdr['fdr rank']=pd.Series(fdr_rank)"
   ]
  },
  {
   "cell_type": "code",
   "execution_count": 169,
   "metadata": {},
   "outputs": [],
   "source": [
    "ks_fdr[\"avg rank\"]=(ks_fdr[\"ks rank\"]+ks_fdr[\"fdr rank\"])/2\n",
    "var=ks_fdr[ks_fdr[\"avg rank\"]<=130]# select top 110 variables by average rank of ks and fdr\n"
   ]
  },
  {
   "cell_type": "code",
   "execution_count": 203,
   "metadata": {},
   "outputs": [],
   "source": [
    "ks_fdr.to_csv(\"ksfdrtable.csv\")"
   ]
  },
  {
   "cell_type": "code",
   "execution_count": 170,
   "metadata": {
    "scrolled": true
   },
   "outputs": [
    {
     "name": "stderr",
     "output_type": "stream",
     "text": [
      "/anaconda3/lib/python3.7/site-packages/ipykernel_launcher.py:2: SettingWithCopyWarning: \n",
      "A value is trying to be set on a copy of a slice from a DataFrame.\n",
      "Try using .loc[row_indexer,col_indexer] = value instead\n",
      "\n",
      "See the caveats in the documentation: http://pandas.pydata.org/pandas-docs/stable/indexing.html#indexing-view-versus-copy\n",
      "  \n"
     ]
    }
   ],
   "source": [
    "app=newdata[var[\"variable\"].values]\n",
    "app[\"date\"]=newdata[\"date\"]"
   ]
  },
  {
   "cell_type": "code",
   "execution_count": 186,
   "metadata": {},
   "outputs": [],
   "source": [
    "app.to_csv(\"app.csv\")"
   ]
  },
  {
   "cell_type": "code",
   "execution_count": 180,
   "metadata": {},
   "outputs": [
    {
     "name": "stdout",
     "output_type": "stream",
     "text": [
      "Training dataset shape: (583454, 130) (583454,)\n",
      "Testing dataset shape: (250053, 130) (250053,)\n"
     ]
    }
   ],
   "source": [
    "norm_data=app\n",
    "#seperate into training+testing and validation\n",
    "train_test=norm_data[norm_data.date<\"2016-11-01\"]\n",
    "oot=norm_data[norm_data.date>=\"2016-11-01\"]\n",
    "train_test=train_test.drop([\"date\"],axis=1)\n",
    "oot=oot.drop([\"date\"],axis=1)\n",
    "\n",
    "#seperate into training and testing\n",
    "from sklearn.model_selection import train_test_split\n",
    "train_test_no_fraud=train_test.drop([\"fraud_label\"],axis=1)\n",
    "predictors=train_test_no_fraud\n",
    "target=train_test[\"fraud_label\"]\n",
    "X_train, X_test, y_train, y_test = train_test_split(predictors,target, test_size=0.3)\n",
    "print('Training dataset shape:', X_train.shape, y_train.shape)\n",
    "print('Testing dataset shape:', X_test.shape, y_test.shape)"
   ]
  },
  {
   "cell_type": "code",
   "execution_count": 183,
   "metadata": {},
   "outputs": [],
   "source": [
    "X_train=X_train.fillna(365)"
   ]
  },
  {
   "cell_type": "code",
   "execution_count": 184,
   "metadata": {},
   "outputs": [
    {
     "data": {
      "text/plain": [
       "fraud_label                      0\n",
       "fulladdress_30                   0\n",
       "zip5fulladdress_30               0\n",
       "addressfulladdress_30            0\n",
       "addresszip5_30                   0\n",
       "zip5fulladdress_14               0\n",
       "fulladdress_14                   0\n",
       "addresszip5_14                   0\n",
       "addressfulladdress_14            0\n",
       "zip5fulladdress_7                0\n",
       "addressfulladdress_7             0\n",
       "addresszip5_7                    0\n",
       "fulladdress_7                    0\n",
       "fulladdress_3                    0\n",
       "zip5fulladdress_3                0\n",
       "addressfulladdress_3             0\n",
       "addresszip5_3                    0\n",
       "zip5fulladdress_1                0\n",
       "fulladdress_1                    0\n",
       "addresszip5_1                    0\n",
       "addressfulladdress_1             0\n",
       "zip3_risk                        1\n",
       "Days_since_perssndob             0\n",
       "ssndob_30                        0\n",
       "lastnamedob_30                   0\n",
       "Danamedob_since_perdobnamedob    0\n",
       "addresshomephone_30              0\n",
       "firstnamenamedob_30              0\n",
       "namedob_30                       0\n",
       "dobnamedob_30                    0\n",
       "                                ..\n",
       "lastnamedob_1                    0\n",
       "firstnamenamedob_1               0\n",
       "dobnamedob_1                     0\n",
       "namedob_1                        0\n",
       "lastnamenamedob_1                0\n",
       "ssn_1                            0\n",
       "ssnfirstname_1                   0\n",
       "firstnamedob_1                   0\n",
       "ssnlastname_1                    0\n",
       "ssndob_1                         0\n",
       "ssnnamedob_1                     0\n",
       "firstnamelastname_1              0\n",
       "homephone_0                      0\n",
       "Day_since_perlastnamedob         0\n",
       "Day_since_perlastnamenamedob     0\n",
       "addresshomephone_0               0\n",
       "zip5homephone_0                  0\n",
       "homephonefulladdress_0           0\n",
       "firstnamelastname_0              0\n",
       "lastnamedob_0                    0\n",
       "ssn_0                            0\n",
       "ssnfirstname_0                   0\n",
       "ssndob_0                         0\n",
       "lastnamenamedob_0                0\n",
       "dobnamedob_0                     0\n",
       "namedob_0                        0\n",
       "firstnamenamedob_0               0\n",
       "ssnlastname_0                    0\n",
       "firstnamedob_0                   0\n",
       "ssnnamedob_0                     0\n",
       "Length: 131, dtype: int64"
      ]
     },
     "execution_count": 184,
     "metadata": {},
     "output_type": "execute_result"
    }
   ],
   "source": [
    "oot.isna().sum()"
   ]
  },
  {
   "cell_type": "code",
   "execution_count": 185,
   "metadata": {},
   "outputs": [
    {
     "name": "stderr",
     "output_type": "stream",
     "text": [
      "/anaconda3/lib/python3.7/site-packages/sklearn/linear_model/logistic.py:758: ConvergenceWarning: lbfgs failed to converge. Increase the number of iterations.\n",
      "  \"of iterations.\", ConvergenceWarning)\n",
      "/anaconda3/lib/python3.7/site-packages/sklearn/linear_model/logistic.py:758: ConvergenceWarning: lbfgs failed to converge. Increase the number of iterations.\n",
      "  \"of iterations.\", ConvergenceWarning)\n",
      "/anaconda3/lib/python3.7/site-packages/sklearn/linear_model/logistic.py:758: ConvergenceWarning: lbfgs failed to converge. Increase the number of iterations.\n",
      "  \"of iterations.\", ConvergenceWarning)\n",
      "/anaconda3/lib/python3.7/site-packages/sklearn/linear_model/logistic.py:758: ConvergenceWarning: lbfgs failed to converge. Increase the number of iterations.\n",
      "  \"of iterations.\", ConvergenceWarning)\n",
      "/anaconda3/lib/python3.7/site-packages/sklearn/linear_model/logistic.py:758: ConvergenceWarning: lbfgs failed to converge. Increase the number of iterations.\n",
      "  \"of iterations.\", ConvergenceWarning)\n",
      "/anaconda3/lib/python3.7/site-packages/sklearn/linear_model/logistic.py:758: ConvergenceWarning: lbfgs failed to converge. Increase the number of iterations.\n",
      "  \"of iterations.\", ConvergenceWarning)\n",
      "/anaconda3/lib/python3.7/site-packages/sklearn/linear_model/logistic.py:758: ConvergenceWarning: lbfgs failed to converge. Increase the number of iterations.\n",
      "  \"of iterations.\", ConvergenceWarning)\n",
      "/anaconda3/lib/python3.7/site-packages/sklearn/linear_model/logistic.py:758: ConvergenceWarning: lbfgs failed to converge. Increase the number of iterations.\n",
      "  \"of iterations.\", ConvergenceWarning)\n",
      "/anaconda3/lib/python3.7/site-packages/sklearn/linear_model/logistic.py:758: ConvergenceWarning: lbfgs failed to converge. Increase the number of iterations.\n",
      "  \"of iterations.\", ConvergenceWarning)\n",
      "/anaconda3/lib/python3.7/site-packages/sklearn/linear_model/logistic.py:758: ConvergenceWarning: lbfgs failed to converge. Increase the number of iterations.\n",
      "  \"of iterations.\", ConvergenceWarning)\n",
      "/anaconda3/lib/python3.7/site-packages/sklearn/linear_model/logistic.py:758: ConvergenceWarning: lbfgs failed to converge. Increase the number of iterations.\n",
      "  \"of iterations.\", ConvergenceWarning)\n",
      "/anaconda3/lib/python3.7/site-packages/sklearn/linear_model/logistic.py:758: ConvergenceWarning: lbfgs failed to converge. Increase the number of iterations.\n",
      "  \"of iterations.\", ConvergenceWarning)\n",
      "/anaconda3/lib/python3.7/site-packages/sklearn/linear_model/logistic.py:758: ConvergenceWarning: lbfgs failed to converge. Increase the number of iterations.\n",
      "  \"of iterations.\", ConvergenceWarning)\n",
      "/anaconda3/lib/python3.7/site-packages/sklearn/linear_model/logistic.py:758: ConvergenceWarning: lbfgs failed to converge. Increase the number of iterations.\n",
      "  \"of iterations.\", ConvergenceWarning)\n",
      "/anaconda3/lib/python3.7/site-packages/sklearn/linear_model/logistic.py:758: ConvergenceWarning: lbfgs failed to converge. Increase the number of iterations.\n",
      "  \"of iterations.\", ConvergenceWarning)\n",
      "/anaconda3/lib/python3.7/site-packages/sklearn/linear_model/logistic.py:758: ConvergenceWarning: lbfgs failed to converge. Increase the number of iterations.\n",
      "  \"of iterations.\", ConvergenceWarning)\n",
      "/anaconda3/lib/python3.7/site-packages/sklearn/linear_model/logistic.py:758: ConvergenceWarning: lbfgs failed to converge. Increase the number of iterations.\n",
      "  \"of iterations.\", ConvergenceWarning)\n",
      "/anaconda3/lib/python3.7/site-packages/sklearn/linear_model/logistic.py:758: ConvergenceWarning: lbfgs failed to converge. Increase the number of iterations.\n",
      "  \"of iterations.\", ConvergenceWarning)\n",
      "/anaconda3/lib/python3.7/site-packages/sklearn/linear_model/logistic.py:758: ConvergenceWarning: lbfgs failed to converge. Increase the number of iterations.\n",
      "  \"of iterations.\", ConvergenceWarning)\n",
      "/anaconda3/lib/python3.7/site-packages/sklearn/linear_model/logistic.py:758: ConvergenceWarning: lbfgs failed to converge. Increase the number of iterations.\n",
      "  \"of iterations.\", ConvergenceWarning)\n",
      "/anaconda3/lib/python3.7/site-packages/sklearn/linear_model/logistic.py:758: ConvergenceWarning: lbfgs failed to converge. Increase the number of iterations.\n",
      "  \"of iterations.\", ConvergenceWarning)\n",
      "/anaconda3/lib/python3.7/site-packages/sklearn/linear_model/logistic.py:758: ConvergenceWarning: lbfgs failed to converge. Increase the number of iterations.\n",
      "  \"of iterations.\", ConvergenceWarning)\n",
      "/anaconda3/lib/python3.7/site-packages/sklearn/linear_model/logistic.py:758: ConvergenceWarning: lbfgs failed to converge. Increase the number of iterations.\n",
      "  \"of iterations.\", ConvergenceWarning)\n",
      "/anaconda3/lib/python3.7/site-packages/sklearn/linear_model/logistic.py:758: ConvergenceWarning: lbfgs failed to converge. Increase the number of iterations.\n",
      "  \"of iterations.\", ConvergenceWarning)\n",
      "/anaconda3/lib/python3.7/site-packages/sklearn/linear_model/logistic.py:758: ConvergenceWarning: lbfgs failed to converge. Increase the number of iterations.\n",
      "  \"of iterations.\", ConvergenceWarning)\n",
      "/anaconda3/lib/python3.7/site-packages/sklearn/linear_model/logistic.py:758: ConvergenceWarning: lbfgs failed to converge. Increase the number of iterations.\n",
      "  \"of iterations.\", ConvergenceWarning)\n",
      "/anaconda3/lib/python3.7/site-packages/sklearn/linear_model/logistic.py:758: ConvergenceWarning: lbfgs failed to converge. Increase the number of iterations.\n",
      "  \"of iterations.\", ConvergenceWarning)\n",
      "/anaconda3/lib/python3.7/site-packages/sklearn/linear_model/logistic.py:758: ConvergenceWarning: lbfgs failed to converge. Increase the number of iterations.\n",
      "  \"of iterations.\", ConvergenceWarning)\n",
      "/anaconda3/lib/python3.7/site-packages/sklearn/linear_model/logistic.py:758: ConvergenceWarning: lbfgs failed to converge. Increase the number of iterations.\n",
      "  \"of iterations.\", ConvergenceWarning)\n",
      "/anaconda3/lib/python3.7/site-packages/sklearn/linear_model/logistic.py:758: ConvergenceWarning: lbfgs failed to converge. Increase the number of iterations.\n",
      "  \"of iterations.\", ConvergenceWarning)\n",
      "/anaconda3/lib/python3.7/site-packages/sklearn/linear_model/logistic.py:758: ConvergenceWarning: lbfgs failed to converge. Increase the number of iterations.\n",
      "  \"of iterations.\", ConvergenceWarning)\n",
      "/anaconda3/lib/python3.7/site-packages/sklearn/linear_model/logistic.py:758: ConvergenceWarning: lbfgs failed to converge. Increase the number of iterations.\n",
      "  \"of iterations.\", ConvergenceWarning)\n",
      "/anaconda3/lib/python3.7/site-packages/sklearn/linear_model/logistic.py:758: ConvergenceWarning: lbfgs failed to converge. Increase the number of iterations.\n",
      "  \"of iterations.\", ConvergenceWarning)\n",
      "/anaconda3/lib/python3.7/site-packages/sklearn/linear_model/logistic.py:758: ConvergenceWarning: lbfgs failed to converge. Increase the number of iterations.\n",
      "  \"of iterations.\", ConvergenceWarning)\n",
      "/anaconda3/lib/python3.7/site-packages/sklearn/linear_model/logistic.py:758: ConvergenceWarning: lbfgs failed to converge. Increase the number of iterations.\n",
      "  \"of iterations.\", ConvergenceWarning)\n",
      "/anaconda3/lib/python3.7/site-packages/sklearn/linear_model/logistic.py:758: ConvergenceWarning: lbfgs failed to converge. Increase the number of iterations.\n",
      "  \"of iterations.\", ConvergenceWarning)\n",
      "/anaconda3/lib/python3.7/site-packages/sklearn/linear_model/logistic.py:758: ConvergenceWarning: lbfgs failed to converge. Increase the number of iterations.\n",
      "  \"of iterations.\", ConvergenceWarning)\n",
      "/anaconda3/lib/python3.7/site-packages/sklearn/linear_model/logistic.py:758: ConvergenceWarning: lbfgs failed to converge. Increase the number of iterations.\n",
      "  \"of iterations.\", ConvergenceWarning)\n",
      "/anaconda3/lib/python3.7/site-packages/sklearn/linear_model/logistic.py:758: ConvergenceWarning: lbfgs failed to converge. Increase the number of iterations.\n",
      "  \"of iterations.\", ConvergenceWarning)\n",
      "/anaconda3/lib/python3.7/site-packages/sklearn/linear_model/logistic.py:758: ConvergenceWarning: lbfgs failed to converge. Increase the number of iterations.\n",
      "  \"of iterations.\", ConvergenceWarning)\n",
      "/anaconda3/lib/python3.7/site-packages/sklearn/linear_model/logistic.py:758: ConvergenceWarning: lbfgs failed to converge. Increase the number of iterations.\n",
      "  \"of iterations.\", ConvergenceWarning)\n",
      "/anaconda3/lib/python3.7/site-packages/sklearn/linear_model/logistic.py:758: ConvergenceWarning: lbfgs failed to converge. Increase the number of iterations.\n",
      "  \"of iterations.\", ConvergenceWarning)\n"
     ]
    },
    {
     "name": "stderr",
     "output_type": "stream",
     "text": [
      "/anaconda3/lib/python3.7/site-packages/sklearn/linear_model/logistic.py:758: ConvergenceWarning: lbfgs failed to converge. Increase the number of iterations.\n",
      "  \"of iterations.\", ConvergenceWarning)\n",
      "/anaconda3/lib/python3.7/site-packages/sklearn/linear_model/logistic.py:758: ConvergenceWarning: lbfgs failed to converge. Increase the number of iterations.\n",
      "  \"of iterations.\", ConvergenceWarning)\n",
      "/anaconda3/lib/python3.7/site-packages/sklearn/linear_model/logistic.py:758: ConvergenceWarning: lbfgs failed to converge. Increase the number of iterations.\n",
      "  \"of iterations.\", ConvergenceWarning)\n",
      "/anaconda3/lib/python3.7/site-packages/sklearn/linear_model/logistic.py:758: ConvergenceWarning: lbfgs failed to converge. Increase the number of iterations.\n",
      "  \"of iterations.\", ConvergenceWarning)\n",
      "/anaconda3/lib/python3.7/site-packages/sklearn/linear_model/logistic.py:758: ConvergenceWarning: lbfgs failed to converge. Increase the number of iterations.\n",
      "  \"of iterations.\", ConvergenceWarning)\n",
      "/anaconda3/lib/python3.7/site-packages/sklearn/linear_model/logistic.py:758: ConvergenceWarning: lbfgs failed to converge. Increase the number of iterations.\n",
      "  \"of iterations.\", ConvergenceWarning)\n",
      "/anaconda3/lib/python3.7/site-packages/sklearn/linear_model/logistic.py:758: ConvergenceWarning: lbfgs failed to converge. Increase the number of iterations.\n",
      "  \"of iterations.\", ConvergenceWarning)\n",
      "/anaconda3/lib/python3.7/site-packages/sklearn/linear_model/logistic.py:758: ConvergenceWarning: lbfgs failed to converge. Increase the number of iterations.\n",
      "  \"of iterations.\", ConvergenceWarning)\n",
      "/anaconda3/lib/python3.7/site-packages/sklearn/linear_model/logistic.py:758: ConvergenceWarning: lbfgs failed to converge. Increase the number of iterations.\n",
      "  \"of iterations.\", ConvergenceWarning)\n",
      "/anaconda3/lib/python3.7/site-packages/sklearn/linear_model/logistic.py:758: ConvergenceWarning: lbfgs failed to converge. Increase the number of iterations.\n",
      "  \"of iterations.\", ConvergenceWarning)\n",
      "/anaconda3/lib/python3.7/site-packages/sklearn/linear_model/logistic.py:758: ConvergenceWarning: lbfgs failed to converge. Increase the number of iterations.\n",
      "  \"of iterations.\", ConvergenceWarning)\n",
      "/anaconda3/lib/python3.7/site-packages/sklearn/linear_model/logistic.py:758: ConvergenceWarning: lbfgs failed to converge. Increase the number of iterations.\n",
      "  \"of iterations.\", ConvergenceWarning)\n",
      "/anaconda3/lib/python3.7/site-packages/sklearn/linear_model/logistic.py:758: ConvergenceWarning: lbfgs failed to converge. Increase the number of iterations.\n",
      "  \"of iterations.\", ConvergenceWarning)\n",
      "/anaconda3/lib/python3.7/site-packages/sklearn/linear_model/logistic.py:758: ConvergenceWarning: lbfgs failed to converge. Increase the number of iterations.\n",
      "  \"of iterations.\", ConvergenceWarning)\n",
      "/anaconda3/lib/python3.7/site-packages/sklearn/linear_model/logistic.py:758: ConvergenceWarning: lbfgs failed to converge. Increase the number of iterations.\n",
      "  \"of iterations.\", ConvergenceWarning)\n",
      "/anaconda3/lib/python3.7/site-packages/sklearn/linear_model/logistic.py:758: ConvergenceWarning: lbfgs failed to converge. Increase the number of iterations.\n",
      "  \"of iterations.\", ConvergenceWarning)\n",
      "/anaconda3/lib/python3.7/site-packages/sklearn/linear_model/logistic.py:758: ConvergenceWarning: lbfgs failed to converge. Increase the number of iterations.\n",
      "  \"of iterations.\", ConvergenceWarning)\n",
      "/anaconda3/lib/python3.7/site-packages/sklearn/linear_model/logistic.py:758: ConvergenceWarning: lbfgs failed to converge. Increase the number of iterations.\n",
      "  \"of iterations.\", ConvergenceWarning)\n",
      "/anaconda3/lib/python3.7/site-packages/sklearn/linear_model/logistic.py:758: ConvergenceWarning: lbfgs failed to converge. Increase the number of iterations.\n",
      "  \"of iterations.\", ConvergenceWarning)\n",
      "/anaconda3/lib/python3.7/site-packages/sklearn/linear_model/logistic.py:758: ConvergenceWarning: lbfgs failed to converge. Increase the number of iterations.\n",
      "  \"of iterations.\", ConvergenceWarning)\n",
      "/anaconda3/lib/python3.7/site-packages/sklearn/linear_model/logistic.py:758: ConvergenceWarning: lbfgs failed to converge. Increase the number of iterations.\n",
      "  \"of iterations.\", ConvergenceWarning)\n",
      "/anaconda3/lib/python3.7/site-packages/sklearn/linear_model/logistic.py:758: ConvergenceWarning: lbfgs failed to converge. Increase the number of iterations.\n",
      "  \"of iterations.\", ConvergenceWarning)\n",
      "/anaconda3/lib/python3.7/site-packages/sklearn/linear_model/logistic.py:758: ConvergenceWarning: lbfgs failed to converge. Increase the number of iterations.\n",
      "  \"of iterations.\", ConvergenceWarning)\n",
      "/anaconda3/lib/python3.7/site-packages/sklearn/linear_model/logistic.py:758: ConvergenceWarning: lbfgs failed to converge. Increase the number of iterations.\n",
      "  \"of iterations.\", ConvergenceWarning)\n",
      "/anaconda3/lib/python3.7/site-packages/sklearn/linear_model/logistic.py:758: ConvergenceWarning: lbfgs failed to converge. Increase the number of iterations.\n",
      "  \"of iterations.\", ConvergenceWarning)\n",
      "/anaconda3/lib/python3.7/site-packages/sklearn/linear_model/logistic.py:758: ConvergenceWarning: lbfgs failed to converge. Increase the number of iterations.\n",
      "  \"of iterations.\", ConvergenceWarning)\n",
      "/anaconda3/lib/python3.7/site-packages/sklearn/linear_model/logistic.py:758: ConvergenceWarning: lbfgs failed to converge. Increase the number of iterations.\n",
      "  \"of iterations.\", ConvergenceWarning)\n",
      "/anaconda3/lib/python3.7/site-packages/sklearn/linear_model/logistic.py:758: ConvergenceWarning: lbfgs failed to converge. Increase the number of iterations.\n",
      "  \"of iterations.\", ConvergenceWarning)\n",
      "/anaconda3/lib/python3.7/site-packages/sklearn/linear_model/logistic.py:758: ConvergenceWarning: lbfgs failed to converge. Increase the number of iterations.\n",
      "  \"of iterations.\", ConvergenceWarning)\n",
      "/anaconda3/lib/python3.7/site-packages/sklearn/linear_model/logistic.py:758: ConvergenceWarning: lbfgs failed to converge. Increase the number of iterations.\n",
      "  \"of iterations.\", ConvergenceWarning)\n",
      "/anaconda3/lib/python3.7/site-packages/sklearn/linear_model/logistic.py:758: ConvergenceWarning: lbfgs failed to converge. Increase the number of iterations.\n",
      "  \"of iterations.\", ConvergenceWarning)\n",
      "/anaconda3/lib/python3.7/site-packages/sklearn/linear_model/logistic.py:758: ConvergenceWarning: lbfgs failed to converge. Increase the number of iterations.\n",
      "  \"of iterations.\", ConvergenceWarning)\n",
      "/anaconda3/lib/python3.7/site-packages/sklearn/linear_model/logistic.py:758: ConvergenceWarning: lbfgs failed to converge. Increase the number of iterations.\n",
      "  \"of iterations.\", ConvergenceWarning)\n",
      "/anaconda3/lib/python3.7/site-packages/sklearn/linear_model/logistic.py:758: ConvergenceWarning: lbfgs failed to converge. Increase the number of iterations.\n",
      "  \"of iterations.\", ConvergenceWarning)\n",
      "/anaconda3/lib/python3.7/site-packages/sklearn/linear_model/logistic.py:758: ConvergenceWarning: lbfgs failed to converge. Increase the number of iterations.\n",
      "  \"of iterations.\", ConvergenceWarning)\n",
      "/anaconda3/lib/python3.7/site-packages/sklearn/linear_model/logistic.py:758: ConvergenceWarning: lbfgs failed to converge. Increase the number of iterations.\n",
      "  \"of iterations.\", ConvergenceWarning)\n",
      "/anaconda3/lib/python3.7/site-packages/sklearn/linear_model/logistic.py:758: ConvergenceWarning: lbfgs failed to converge. Increase the number of iterations.\n",
      "  \"of iterations.\", ConvergenceWarning)\n",
      "/anaconda3/lib/python3.7/site-packages/sklearn/linear_model/logistic.py:758: ConvergenceWarning: lbfgs failed to converge. Increase the number of iterations.\n",
      "  \"of iterations.\", ConvergenceWarning)\n",
      "/anaconda3/lib/python3.7/site-packages/sklearn/linear_model/logistic.py:758: ConvergenceWarning: lbfgs failed to converge. Increase the number of iterations.\n",
      "  \"of iterations.\", ConvergenceWarning)\n",
      "/anaconda3/lib/python3.7/site-packages/sklearn/linear_model/logistic.py:758: ConvergenceWarning: lbfgs failed to converge. Increase the number of iterations.\n",
      "  \"of iterations.\", ConvergenceWarning)\n",
      "/anaconda3/lib/python3.7/site-packages/sklearn/linear_model/logistic.py:758: ConvergenceWarning: lbfgs failed to converge. Increase the number of iterations.\n",
      "  \"of iterations.\", ConvergenceWarning)\n",
      "/anaconda3/lib/python3.7/site-packages/sklearn/linear_model/logistic.py:758: ConvergenceWarning: lbfgs failed to converge. Increase the number of iterations.\n",
      "  \"of iterations.\", ConvergenceWarning)\n"
     ]
    },
    {
     "name": "stderr",
     "output_type": "stream",
     "text": [
      "/anaconda3/lib/python3.7/site-packages/sklearn/linear_model/logistic.py:758: ConvergenceWarning: lbfgs failed to converge. Increase the number of iterations.\n",
      "  \"of iterations.\", ConvergenceWarning)\n",
      "/anaconda3/lib/python3.7/site-packages/sklearn/linear_model/logistic.py:758: ConvergenceWarning: lbfgs failed to converge. Increase the number of iterations.\n",
      "  \"of iterations.\", ConvergenceWarning)\n",
      "/anaconda3/lib/python3.7/site-packages/sklearn/linear_model/logistic.py:758: ConvergenceWarning: lbfgs failed to converge. Increase the number of iterations.\n",
      "  \"of iterations.\", ConvergenceWarning)\n",
      "/anaconda3/lib/python3.7/site-packages/sklearn/linear_model/logistic.py:758: ConvergenceWarning: lbfgs failed to converge. Increase the number of iterations.\n",
      "  \"of iterations.\", ConvergenceWarning)\n",
      "/anaconda3/lib/python3.7/site-packages/sklearn/linear_model/logistic.py:758: ConvergenceWarning: lbfgs failed to converge. Increase the number of iterations.\n",
      "  \"of iterations.\", ConvergenceWarning)\n",
      "/anaconda3/lib/python3.7/site-packages/sklearn/linear_model/logistic.py:758: ConvergenceWarning: lbfgs failed to converge. Increase the number of iterations.\n",
      "  \"of iterations.\", ConvergenceWarning)\n",
      "/anaconda3/lib/python3.7/site-packages/sklearn/linear_model/logistic.py:758: ConvergenceWarning: lbfgs failed to converge. Increase the number of iterations.\n",
      "  \"of iterations.\", ConvergenceWarning)\n",
      "/anaconda3/lib/python3.7/site-packages/sklearn/linear_model/logistic.py:758: ConvergenceWarning: lbfgs failed to converge. Increase the number of iterations.\n",
      "  \"of iterations.\", ConvergenceWarning)\n",
      "/anaconda3/lib/python3.7/site-packages/sklearn/linear_model/logistic.py:758: ConvergenceWarning: lbfgs failed to converge. Increase the number of iterations.\n",
      "  \"of iterations.\", ConvergenceWarning)\n",
      "/anaconda3/lib/python3.7/site-packages/sklearn/linear_model/logistic.py:758: ConvergenceWarning: lbfgs failed to converge. Increase the number of iterations.\n",
      "  \"of iterations.\", ConvergenceWarning)\n",
      "/anaconda3/lib/python3.7/site-packages/sklearn/linear_model/logistic.py:758: ConvergenceWarning: lbfgs failed to converge. Increase the number of iterations.\n",
      "  \"of iterations.\", ConvergenceWarning)\n",
      "/anaconda3/lib/python3.7/site-packages/sklearn/linear_model/logistic.py:758: ConvergenceWarning: lbfgs failed to converge. Increase the number of iterations.\n",
      "  \"of iterations.\", ConvergenceWarning)\n",
      "/anaconda3/lib/python3.7/site-packages/sklearn/linear_model/logistic.py:758: ConvergenceWarning: lbfgs failed to converge. Increase the number of iterations.\n",
      "  \"of iterations.\", ConvergenceWarning)\n",
      "/anaconda3/lib/python3.7/site-packages/sklearn/linear_model/logistic.py:758: ConvergenceWarning: lbfgs failed to converge. Increase the number of iterations.\n",
      "  \"of iterations.\", ConvergenceWarning)\n",
      "/anaconda3/lib/python3.7/site-packages/sklearn/linear_model/logistic.py:758: ConvergenceWarning: lbfgs failed to converge. Increase the number of iterations.\n",
      "  \"of iterations.\", ConvergenceWarning)\n",
      "/anaconda3/lib/python3.7/site-packages/sklearn/linear_model/logistic.py:758: ConvergenceWarning: lbfgs failed to converge. Increase the number of iterations.\n",
      "  \"of iterations.\", ConvergenceWarning)\n",
      "/anaconda3/lib/python3.7/site-packages/sklearn/linear_model/logistic.py:758: ConvergenceWarning: lbfgs failed to converge. Increase the number of iterations.\n",
      "  \"of iterations.\", ConvergenceWarning)\n",
      "/anaconda3/lib/python3.7/site-packages/sklearn/linear_model/logistic.py:758: ConvergenceWarning: lbfgs failed to converge. Increase the number of iterations.\n",
      "  \"of iterations.\", ConvergenceWarning)\n",
      "/anaconda3/lib/python3.7/site-packages/sklearn/linear_model/logistic.py:758: ConvergenceWarning: lbfgs failed to converge. Increase the number of iterations.\n",
      "  \"of iterations.\", ConvergenceWarning)\n",
      "/anaconda3/lib/python3.7/site-packages/sklearn/linear_model/logistic.py:758: ConvergenceWarning: lbfgs failed to converge. Increase the number of iterations.\n",
      "  \"of iterations.\", ConvergenceWarning)\n",
      "/anaconda3/lib/python3.7/site-packages/sklearn/linear_model/logistic.py:758: ConvergenceWarning: lbfgs failed to converge. Increase the number of iterations.\n",
      "  \"of iterations.\", ConvergenceWarning)\n",
      "/anaconda3/lib/python3.7/site-packages/sklearn/linear_model/logistic.py:758: ConvergenceWarning: lbfgs failed to converge. Increase the number of iterations.\n",
      "  \"of iterations.\", ConvergenceWarning)\n",
      "/anaconda3/lib/python3.7/site-packages/sklearn/linear_model/logistic.py:758: ConvergenceWarning: lbfgs failed to converge. Increase the number of iterations.\n",
      "  \"of iterations.\", ConvergenceWarning)\n",
      "/anaconda3/lib/python3.7/site-packages/sklearn/linear_model/logistic.py:758: ConvergenceWarning: lbfgs failed to converge. Increase the number of iterations.\n",
      "  \"of iterations.\", ConvergenceWarning)\n",
      "/anaconda3/lib/python3.7/site-packages/sklearn/linear_model/logistic.py:758: ConvergenceWarning: lbfgs failed to converge. Increase the number of iterations.\n",
      "  \"of iterations.\", ConvergenceWarning)\n",
      "/anaconda3/lib/python3.7/site-packages/sklearn/linear_model/logistic.py:758: ConvergenceWarning: lbfgs failed to converge. Increase the number of iterations.\n",
      "  \"of iterations.\", ConvergenceWarning)\n",
      "/anaconda3/lib/python3.7/site-packages/sklearn/linear_model/logistic.py:758: ConvergenceWarning: lbfgs failed to converge. Increase the number of iterations.\n",
      "  \"of iterations.\", ConvergenceWarning)\n"
     ]
    },
    {
     "data": {
      "text/plain": [
       "Index(['zip5fulladdress_30', 'addressfulladdress_30', 'addresszip5_30',\n",
       "       'zip3_risk', 'addresshomephone_30', 'firstnamenamedob_30', 'namedob_30',\n",
       "       'dobnamedob_30', 'lastnamenamedob_30', 'firstnamedob_30',\n",
       "       'homephonefulladdress_30', 'addresshomephone_14',\n",
       "       'homephonefulladdress_14', 'firstnamedob_14', 'ssndob_14',\n",
       "       'ssnnamedob_14', 'fulladdress_0', 'zip5fulladdress_0', 'homephone_1',\n",
       "       'lastnamedob_3'],\n",
       "      dtype='object')"
      ]
     },
     "execution_count": 185,
     "metadata": {},
     "output_type": "execute_result"
    }
   ],
   "source": [
    "from sklearn.linear_model import LogisticRegression\n",
    "from sklearn.feature_selection import RFE\n",
    "rfe_selector = RFE(estimator=LogisticRegression(solver='lbfgs'),n_features_to_select=20)\n",
    "rfe_selector.fit(X_train, y_train)\n",
    "forward_selected_var=X_train.columns[rfe_selector.get_support()]\n",
    "forward_selected_var"
   ]
  },
  {
   "cell_type": "code",
   "execution_count": 187,
   "metadata": {
    "scrolled": false
   },
   "outputs": [],
   "source": [
    "X_train=X_train[forward_selected_var]\n",
    "X_test=X_test[forward_selected_var]\n",
    "X_valid=oot[forward_selected_var]\n",
    "y_valid=oot[\"fraud_label\"]"
   ]
  },
  {
   "cell_type": "code",
   "execution_count": 188,
   "metadata": {},
   "outputs": [
    {
     "name": "stderr",
     "output_type": "stream",
     "text": [
      "/anaconda3/lib/python3.7/site-packages/ipykernel_launcher.py:1: SettingWithCopyWarning: \n",
      "A value is trying to be set on a copy of a slice from a DataFrame.\n",
      "Try using .loc[row_indexer,col_indexer] = value instead\n",
      "\n",
      "See the caveats in the documentation: http://pandas.pydata.org/pandas-docs/stable/indexing.html#indexing-view-versus-copy\n",
      "  \"\"\"Entry point for launching an IPython kernel.\n"
     ]
    }
   ],
   "source": [
    "X_valid[\"zip3_risk\"]=X_valid[\"zip3_risk\"].fillna(\"0\")"
   ]
  },
  {
   "cell_type": "code",
   "execution_count": 189,
   "metadata": {
    "scrolled": true
   },
   "outputs": [
    {
     "name": "stderr",
     "output_type": "stream",
     "text": [
      "/anaconda3/lib/python3.7/site-packages/sklearn/linear_model/logistic.py:758: ConvergenceWarning: lbfgs failed to converge. Increase the number of iterations.\n",
      "  \"of iterations.\", ConvergenceWarning)\n"
     ]
    },
    {
     "name": "stdout",
     "output_type": "stream",
     "text": [
      "FRD for training is 36.367952522255194%\n",
      "FRD for testing is 37.68844221105528%\n",
      "FRD for validation is 36.08549874266555%\n"
     ]
    },
    {
     "data": {
      "image/png": "[encoded data removed]",
      "text/plain": [
       "<Figure size 432x288 with 2 Axes>"
      ]
     },
     "metadata": {
      "needs_background": "light"
     },
     "output_type": "display_data"
    }
   ],
   "source": [
    "from sklearn import metrics\n",
    "\n",
    "logreg=LogisticRegression(solver='lbfgs',multi_class=\"ovr\")\n",
    "logreg.fit(X_train, y_train)\n",
    "y_pred_train = logreg.predict(X_train)\n",
    "y_pred_test = logreg.predict(X_test)\n",
    "y_pred_valid = logreg.predict(X_valid)\n",
    "\n",
    "\n",
    "#confusion matrix\n",
    "cnf_matrix_train=metrics.confusion_matrix(y_train, y_pred_train)\n",
    "cnf_matrix_test=metrics.confusion_matrix(y_test, y_pred_test)\n",
    "cnf_matrix_valid=metrics.confusion_matrix(y_valid, y_pred_valid)\n",
    "#metrics.accuracy_score(y_test,y_pred)\n",
    "\n",
    "#Plot confusion matrix for testing\n",
    "class_names=[0,1] # name  of classes\n",
    "tick_marks = np.arange(len(class_names))\n",
    "plt.xticks(tick_marks, class_names)\n",
    "plt.yticks(tick_marks, class_names)\n",
    "# create heatmap\n",
    "sns.heatmap(pd.DataFrame(cnf_matrix_valid), annot=True, cmap=\"YlGnBu\" ,fmt='g')\n",
    "plt.title('Confusion matrix', y=1.1)\n",
    "plt.ylabel('Actual label')\n",
    "plt.xlabel('Predicted label')\n",
    "\n",
    "print(f\"FRD for training is {(cnf_matrix_train[1][1]/(cnf_matrix_train[1][0]+cnf_matrix_train[1][1]))*100}%\")\n",
    "print(f\"FRD for testing is {(cnf_matrix_test[1][1]/(cnf_matrix_test[1][0]+cnf_matrix_test[1][1]))*100}%\")\n",
    "print(f\"FRD for validation is {(cnf_matrix_valid[1][1]/(cnf_matrix_valid[1][0]+cnf_matrix_valid[1][1]))*100}%\")"
   ]
  },
  {
   "cell_type": "code",
   "execution_count": 150,
   "metadata": {},
   "outputs": [
    {
     "data": {
      "text/plain": [
       "15003.119999999999"
      ]
     },
     "execution_count": 150,
     "metadata": {},
     "output_type": "execute_result"
    }
   ],
   "source": [
    "len(X_train)*0.03"
   ]
  },
  {
   "cell_type": "code",
   "execution_count": 190,
   "metadata": {},
   "outputs": [
    {
     "data": {
      "text/plain": [
       "0.5087240356083086"
      ]
     },
     "execution_count": 190,
     "metadata": {},
     "output_type": "execute_result"
    }
   ],
   "source": [
    "# calculate predictions\n",
    "predictions_train = logreg.predict_proba(X_train)\n",
    "# combine the result to the original dataset in order to calculate the FDR\n",
    "df_train_pre = pd.DataFrame(predictions_train)\n",
    "train = pd.concat([X_train,y_train],axis = 1).reset_index()\n",
    "train['prediction_scor'] = df_train_pre.iloc[:,1]\n",
    "train_fdr_top = train.sort_values('prediction_scor', ascending = False).head(int(len(X_train)*0.03))\n",
    "train_fdr = train_fdr_top[\"fraud_label\"].sum()/train.fraud_label.sum()\n",
    "train_fdr"
   ]
  },
  {
   "cell_type": "code",
   "execution_count": 476,
   "metadata": {},
   "outputs": [
    {
     "data": {
      "text/plain": [
       "10002.09"
      ]
     },
     "execution_count": 476,
     "metadata": {},
     "output_type": "execute_result"
    }
   ],
   "source": [
    "len(X_test)*0.03"
   ]
  },
  {
   "cell_type": "code",
   "execution_count": 191,
   "metadata": {},
   "outputs": [
    {
     "data": {
      "text/plain": [
       "0.5223338916806254"
      ]
     },
     "execution_count": 191,
     "metadata": {},
     "output_type": "execute_result"
    }
   ],
   "source": [
    "# calculate predictions\n",
    "predictions_test = logreg.predict_proba(X_test)\n",
    "# combine the result to the original dataset in order to calculate the FDR\n",
    "df_test_pre = pd.DataFrame(predictions_test) \n",
    "test = pd.concat([X_test,y_test],axis = 1).reset_index()\n",
    "test['prediction_scor'] = df_test_pre.iloc[:,1]\n",
    "test_fdr_top = test.sort_values('prediction_scor', ascending = False).head(int(len(X_test)*0.03))\n",
    "test_fdr = test_fdr_top['fraud_label'].sum()/test.fraud_label.sum()\n",
    "test_fdr"
   ]
  },
  {
   "cell_type": "code",
   "execution_count": 478,
   "metadata": {},
   "outputs": [
    {
     "data": {
      "text/plain": [
       "4994.79"
      ]
     },
     "execution_count": 478,
     "metadata": {},
     "output_type": "execute_result"
    }
   ],
   "source": [
    "len(X_valid)*0.03"
   ]
  },
  {
   "cell_type": "code",
   "execution_count": 192,
   "metadata": {},
   "outputs": [
    {
     "data": {
      "text/plain": [
       "0.49161777032690696"
      ]
     },
     "execution_count": 192,
     "metadata": {},
     "output_type": "execute_result"
    }
   ],
   "source": [
    "# calculate predictions\n",
    "predictions_valid = logreg.predict_proba(X_valid)\n",
    "# combine the result to the original dataset in order to calculate the FDR\n",
    "df_valid_pre = pd.DataFrame(predictions_valid) \n",
    "valid = pd.concat([X_valid,y_valid],axis = 1).reset_index()\n",
    "valid['prediction_scor'] = df_valid_pre.iloc[:,1]\n",
    "valid_fdr_top = valid.sort_values('prediction_scor', ascending = False).head(int(len(X_valid)*0.03))\n",
    "valid_fdr = valid_fdr_top['fraud_label'].sum()/valid.fraud_label.sum()\n",
    "valid_fdr"
   ]
  },
  {
   "cell_type": "code",
   "execution_count": 227,
   "metadata": {},
   "outputs": [
    {
     "name": "stdout",
     "output_type": "stream",
     "text": [
      "FRD for training is 48.154302670623146%\n",
      "FRD for testing is 48.213288665549975%\n",
      "FRD for validation is 44.04861693210394%\n"
     ]
    }
   ],
   "source": [
    "from sklearn.ensemble import RandomForestClassifier\n",
    "rand_for=RandomForestClassifier(random_state=0,n_estimators = 500, max_depth=10,max_features=4)\n",
    "rand_for.fit(X_train, y_train)\n",
    "y_pred_train = rand_for.predict(X_train)\n",
    "y_pred_test = rand_for.predict(X_test)\n",
    "y_pred_valid = rand_for.predict(X_valid)\n",
    "\n",
    "#confusion matrix\n",
    "cnf_matrix_train=metrics.confusion_matrix(y_train, y_pred_train)\n",
    "cnf_matrix_test=metrics.confusion_matrix(y_test, y_pred_test)\n",
    "cnf_matrix_valid=metrics.confusion_matrix(y_valid, y_pred_valid)\n",
    "\n",
    "print(f\"FRD for training is {(cnf_matrix_train[1][1]/(cnf_matrix_train[1][0]+cnf_matrix_train[1][1]))*100}%\")\n",
    "print(f\"FRD for testing is {(cnf_matrix_test[1][1]/(cnf_matrix_test[1][0]+cnf_matrix_test[1][1]))*100}%\")\n",
    "print(f\"FRD for validation is {(cnf_matrix_valid[1][1]/(cnf_matrix_valid[1][0]+cnf_matrix_valid[1][1]))*100}%\")"
   ]
  },
  {
   "cell_type": "code",
   "execution_count": 228,
   "metadata": {},
   "outputs": [
    {
     "data": {
      "text/plain": [
       "0.5575074183976261"
      ]
     },
     "execution_count": 228,
     "metadata": {},
     "output_type": "execute_result"
    }
   ],
   "source": [
    "# calculate predictions\n",
    "predictions_train = rand_for.predict_proba(X_train)\n",
    "# combine the result to the original dataset in order to calculate the FDR\n",
    "df_train_pre = pd.DataFrame(predictions_train)\n",
    "train = pd.concat([X_train,y_train],axis = 1).reset_index()\n",
    "train['prediction_scor'] = df_train_pre.iloc[:,1]\n",
    "train_fdr_top = train.sort_values('prediction_scor', ascending = False).head(int(len(X_train)*0.03))\n",
    "train_fdr = train_fdr_top[\"fraud_label\"].sum()/train.fraud_label.sum()\n",
    "train_fdr"
   ]
  },
  {
   "cell_type": "code",
   "execution_count": 229,
   "metadata": {},
   "outputs": [
    {
     "data": {
      "text/plain": [
       "0.5639307649357901"
      ]
     },
     "execution_count": 229,
     "metadata": {},
     "output_type": "execute_result"
    }
   ],
   "source": [
    "# calculate predictions\n",
    "predictions_test = rand_for.predict_proba(X_test)\n",
    "# combine the result to the original dataset in order to calculate the FDR\n",
    "df_test_pre = pd.DataFrame(predictions_test) \n",
    "test = pd.concat([X_test,y_test],axis = 1).reset_index()\n",
    "test['prediction_scor'] = df_test_pre.iloc[:,1]\n",
    "test_fdr_top = test.sort_values('prediction_scor', ascending = False).head(int(len(X_test)*0.03))\n",
    "test_fdr = test_fdr_top['fraud_label'].sum()/test.fraud_label.sum()\n",
    "test_fdr"
   ]
  },
  {
   "cell_type": "code",
   "execution_count": 230,
   "metadata": {},
   "outputs": [
    {
     "data": {
      "text/plain": [
       "0.5318524727577536"
      ]
     },
     "execution_count": 230,
     "metadata": {},
     "output_type": "execute_result"
    }
   ],
   "source": [
    "# calculate predictions\n",
    "predictions_valid = rand_for.predict_proba(X_valid)\n",
    "# combine the result to the original dataset in order to calculate the FDR\n",
    "df_valid_pre = pd.DataFrame(predictions_valid) \n",
    "valid = pd.concat([X_valid,y_valid],axis = 1).reset_index()\n",
    "valid['prediction_scor'] = df_valid_pre.iloc[:,1]\n",
    "valid_fdr_top = valid.sort_values('prediction_scor', ascending = False).head(int(len(X_valid)*0.03))\n",
    "valid_fdr = valid_fdr_top['fraud_label'].sum()/valid.fraud_label.sum()\n",
    "valid_fdr"
   ]
  },
  {
   "cell_type": "code",
   "execution_count": 223,
   "metadata": {},
   "outputs": [
    {
     "name": "stdout",
     "output_type": "stream",
     "text": [
      "FRD for training is 48.10682492581602%\n",
      "FRD for testing is 48.96705750977108%\n",
      "FRD for validation is 43.46186085498743%\n"
     ]
    }
   ],
   "source": [
    "from sklearn.ensemble import GradientBoostingClassifier\n",
    "boosted_tree=GradientBoostingClassifier(n_estimators=100, learning_rate=0.1, random_state=0).fit(X_train, y_train)\n",
    "y_pred_train = boosted_tree.predict(X_train)\n",
    "y_pred_test = boosted_tree.predict(X_test)\n",
    "y_pred_valid = boosted_tree.predict(X_valid)\n",
    "\n",
    "#confusion matrix\n",
    "cnf_matrix_train=metrics.confusion_matrix(y_train, y_pred_train)\n",
    "cnf_matrix_test=metrics.confusion_matrix(y_test, y_pred_test)\n",
    "cnf_matrix_valid=metrics.confusion_matrix(y_valid, y_pred_valid)\n",
    "\n",
    "print(f\"FRD for training is {(cnf_matrix_train[1][1]/(cnf_matrix_train[1][0]+cnf_matrix_train[1][1]))*100}%\")\n",
    "print(f\"FRD for testing is {(cnf_matrix_test[1][1]/(cnf_matrix_test[1][0]+cnf_matrix_test[1][1]))*100}%\")\n",
    "print(f\"FRD for validation is {(cnf_matrix_valid[1][1]/(cnf_matrix_valid[1][0]+cnf_matrix_valid[1][1]))*100}%\")"
   ]
  },
  {
   "cell_type": "code",
   "execution_count": 224,
   "metadata": {},
   "outputs": [
    {
     "data": {
      "text/plain": [
       "0.5525222551928783"
      ]
     },
     "execution_count": 224,
     "metadata": {},
     "output_type": "execute_result"
    }
   ],
   "source": [
    "# calculate predictions\n",
    "predictions_train = boosted_tree.predict_proba(X_train)\n",
    "# combine the result to the original dataset in order to calculate the FDR\n",
    "df_train_pre = pd.DataFrame(predictions_train)\n",
    "train = pd.concat([X_train,y_train],axis = 1).reset_index()\n",
    "train['prediction_scor'] = df_train_pre.iloc[:,1]\n",
    "train_fdr_top = train.sort_values('prediction_scor', ascending = False).head(int(len(X_train)*0.03))\n",
    "train_fdr = train_fdr_top[\"fraud_label\"].sum()/train.fraud_label.sum()\n",
    "train_fdr"
   ]
  },
  {
   "cell_type": "code",
   "execution_count": 225,
   "metadata": {},
   "outputs": [
    {
     "data": {
      "text/plain": [
       "0.5614182021217197"
      ]
     },
     "execution_count": 225,
     "metadata": {},
     "output_type": "execute_result"
    }
   ],
   "source": [
    "predictions_test = boosted_tree.predict_proba(X_test)\n",
    "# combine the result to the original dataset in order to calculate the FDR\n",
    "df_test_pre = pd.DataFrame(predictions_test) \n",
    "test = pd.concat([X_test,y_test],axis = 1).reset_index()\n",
    "test['prediction_scor'] = df_test_pre.iloc[:,1]\n",
    "test_fdr_top = test.sort_values('prediction_scor', ascending = False).head(int(len(X_test)*0.03))\n",
    "test_fdr = test_fdr_top['fraud_label'].sum()/test.fraud_label.sum()\n",
    "test_fdr"
   ]
  },
  {
   "cell_type": "code",
   "execution_count": 226,
   "metadata": {},
   "outputs": [
    {
     "data": {
      "text/plain": [
       "0.5280804694048616"
      ]
     },
     "execution_count": 226,
     "metadata": {},
     "output_type": "execute_result"
    }
   ],
   "source": [
    "# calculate predictions\n",
    "predictions_valid =boosted_tree.predict_proba(X_valid)\n",
    "# combine the result to the original dataset in order to calculate the FDR\n",
    "df_valid_pre = pd.DataFrame(predictions_valid) \n",
    "valid = pd.concat([X_valid,y_valid],axis = 1).reset_index()\n",
    "valid['prediction_scor'] = df_valid_pre.iloc[:,1]\n",
    "valid_fdr_top = valid.sort_values('prediction_scor', ascending = False).head(int(len(X_valid)*0.03))\n",
    "valid_fdr = valid_fdr_top['fraud_label'].sum()/valid.fraud_label.sum()\n",
    "valid_fdr"
   ]
  },
  {
   "cell_type": "code",
   "execution_count": 202,
   "metadata": {
    "scrolled": true
   },
   "outputs": [
    {
     "data": {
      "text/html": [
       "<div>\n",
       "<style scoped>\n",
       "    .dataframe tbody tr th:only-of-type {\n",
       "        vertical-align: middle;\n",
       "    }\n",
       "\n",
       "    .dataframe tbody tr th {\n",
       "        vertical-align: top;\n",
       "    }\n",
       "\n",
       "    .dataframe thead th {\n",
       "        text-align: right;\n",
       "    }\n",
       "</style>\n",
       "<table border=\"1\" class=\"dataframe\">\n",
       "  <thead>\n",
       "    <tr style=\"text-align: right;\">\n",
       "      <th></th>\n",
       "      <th>importance</th>\n",
       "    </tr>\n",
       "  </thead>\n",
       "  <tbody>\n",
       "    <tr>\n",
       "      <th>addresszip5_30</th>\n",
       "      <td>0.146495</td>\n",
       "    </tr>\n",
       "    <tr>\n",
       "      <th>addressfulladdress_30</th>\n",
       "      <td>0.128355</td>\n",
       "    </tr>\n",
       "    <tr>\n",
       "      <th>zip5fulladdress_30</th>\n",
       "      <td>0.122596</td>\n",
       "    </tr>\n",
       "    <tr>\n",
       "      <th>dobnamedob_30</th>\n",
       "      <td>0.070441</td>\n",
       "    </tr>\n",
       "    <tr>\n",
       "      <th>firstnamenamedob_30</th>\n",
       "      <td>0.065746</td>\n",
       "    </tr>\n",
       "    <tr>\n",
       "      <th>lastnamenamedob_30</th>\n",
       "      <td>0.062341</td>\n",
       "    </tr>\n",
       "    <tr>\n",
       "      <th>namedob_30</th>\n",
       "      <td>0.061722</td>\n",
       "    </tr>\n",
       "    <tr>\n",
       "      <th>ssndob_14</th>\n",
       "      <td>0.040636</td>\n",
       "    </tr>\n",
       "    <tr>\n",
       "      <th>ssnnamedob_14</th>\n",
       "      <td>0.040266</td>\n",
       "    </tr>\n",
       "    <tr>\n",
       "      <th>addresshomephone_30</th>\n",
       "      <td>0.038054</td>\n",
       "    </tr>\n",
       "    <tr>\n",
       "      <th>homephonefulladdress_30</th>\n",
       "      <td>0.033562</td>\n",
       "    </tr>\n",
       "    <tr>\n",
       "      <th>fulladdress_0</th>\n",
       "      <td>0.031758</td>\n",
       "    </tr>\n",
       "    <tr>\n",
       "      <th>zip5fulladdress_0</th>\n",
       "      <td>0.028161</td>\n",
       "    </tr>\n",
       "    <tr>\n",
       "      <th>homephone_1</th>\n",
       "      <td>0.025562</td>\n",
       "    </tr>\n",
       "    <tr>\n",
       "      <th>addresshomephone_14</th>\n",
       "      <td>0.023795</td>\n",
       "    </tr>\n",
       "    <tr>\n",
       "      <th>homephonefulladdress_14</th>\n",
       "      <td>0.021002</td>\n",
       "    </tr>\n",
       "    <tr>\n",
       "      <th>lastnamedob_3</th>\n",
       "      <td>0.017098</td>\n",
       "    </tr>\n",
       "    <tr>\n",
       "      <th>zip3_risk</th>\n",
       "      <td>0.014790</td>\n",
       "    </tr>\n",
       "    <tr>\n",
       "      <th>firstnamedob_14</th>\n",
       "      <td>0.014167</td>\n",
       "    </tr>\n",
       "    <tr>\n",
       "      <th>firstnamedob_30</th>\n",
       "      <td>0.013452</td>\n",
       "    </tr>\n",
       "  </tbody>\n",
       "</table>\n",
       "</div>"
      ],
      "text/plain": [
       "                         importance\n",
       "addresszip5_30             0.146495\n",
       "addressfulladdress_30      0.128355\n",
       "zip5fulladdress_30         0.122596\n",
       "dobnamedob_30              0.070441\n",
       "firstnamenamedob_30        0.065746\n",
       "lastnamenamedob_30         0.062341\n",
       "namedob_30                 0.061722\n",
       "ssndob_14                  0.040636\n",
       "ssnnamedob_14              0.040266\n",
       "addresshomephone_30        0.038054\n",
       "homephonefulladdress_30    0.033562\n",
       "fulladdress_0              0.031758\n",
       "zip5fulladdress_0          0.028161\n",
       "homephone_1                0.025562\n",
       "addresshomephone_14        0.023795\n",
       "homephonefulladdress_14    0.021002\n",
       "lastnamedob_3              0.017098\n",
       "zip3_risk                  0.014790\n",
       "firstnamedob_14            0.014167\n",
       "firstnamedob_30            0.013452"
      ]
     },
     "execution_count": 202,
     "metadata": {},
     "output_type": "execute_result"
    }
   ],
   "source": [
    "feature_importances = pd.DataFrame(rand_for.feature_importances_,index = X_train.columns,columns=['importance']).sort_values('importance',ascending=False)\n",
    "feature_importances\n"
   ]
  },
  {
   "cell_type": "code",
   "execution_count": 257,
   "metadata": {},
   "outputs": [],
   "source": [
    "phone599=data[data.homephone ==5995186929]\n",
    "rec=phone599[\"record\"]\n",
    "#Phone = 5995186929\n",
    "app[\"record\"]=data[\"record\"]\n",
    "p599=app[app.record.isin(rec)]\n",
    "p5=p599[forward_selected_var]"
   ]
  },
  {
   "cell_type": "code",
   "execution_count": 259,
   "metadata": {},
   "outputs": [
    {
     "name": "stderr",
     "output_type": "stream",
     "text": [
      "/anaconda3/lib/python3.7/site-packages/ipykernel_launcher.py:1: SettingWithCopyWarning: \n",
      "A value is trying to be set on a copy of a slice from a DataFrame.\n",
      "Try using .loc[row_indexer,col_indexer] = value instead\n",
      "\n",
      "See the caveats in the documentation: http://pandas.pydata.org/pandas-docs/stable/indexing.html#indexing-view-versus-copy\n",
      "  \"\"\"Entry point for launching an IPython kernel.\n"
     ]
    }
   ],
   "source": [
    "p599[\"fs\"]=model.predict(p5)\n",
    "p599=p599[[\"date\",\"fs\",\"fraud_label\"]]\n",
    "p599['date'] = p599['date'].apply(lambda x: pd.to_datetime(str(x), format='%Y-%m-%d'))\n",
    "p599[\"month\"]=p599['date'].apply(lambda x:x.month)"
   ]
  },
  {
   "cell_type": "code",
   "execution_count": 276,
   "metadata": {},
   "outputs": [
    {
     "data": {
      "text/plain": [
       "<matplotlib.axes._subplots.AxesSubplot at 0x1a67bb3940>"
      ]
     },
     "execution_count": 276,
     "metadata": {},
     "output_type": "execute_result"
    },
    {
     "data": {
      "image/png": "[encoded data removed]",
      "text/plain": [
       "<Figure size 432x288 with 1 Axes>"
      ]
     },
     "metadata": {
      "needs_background": "light"
     },
     "output_type": "display_data"
    }
   ],
   "source": [
    "p599=p599.reset_index()\n",
    "p599.groupby(by='month')['fs'].apply(lambda x: x.mean()).plot.line()"
   ]
  },
  {
   "cell_type": "code",
   "execution_count": 293,
   "metadata": {
    "scrolled": true
   },
   "outputs": [],
   "source": [
    "fs_month=pd.DataFrame(p599.groupby(by='month')['fs'].apply(lambda x: x.mean())).reset_index()\n",
    "fl_month=pd.DataFrame(p599.groupby(by='month')['fraud_label'].apply(lambda x: x.mean())).reset_index()"
   ]
  },
  {
   "cell_type": "code",
   "execution_count": 291,
   "metadata": {},
   "outputs": [],
   "source": [
    "fs_month_count=pd.DataFrame(p599.groupby(by='month')['fs'].apply(lambda x: x.count())).reset_index()"
   ]
  },
  {
   "cell_type": "code",
   "execution_count": 295,
   "metadata": {
    "scrolled": true
   },
   "outputs": [
    {
     "data": {
      "text/plain": [
       "([<matplotlib.axis.XTick at 0x1a6dea3208>,\n",
       "  <matplotlib.axis.XTick at 0x1a6de8c9e8>,\n",
       "  <matplotlib.axis.XTick at 0x1a6de8c780>,\n",
       "  <matplotlib.axis.XTick at 0x1a6deb8400>,\n",
       "  <matplotlib.axis.XTick at 0x1a6deb8898>,\n",
       "  <matplotlib.axis.XTick at 0x1a6deb8c50>,\n",
       "  <matplotlib.axis.XTick at 0x1a6debc198>,\n",
       "  <matplotlib.axis.XTick at 0x1a6debc6a0>,\n",
       "  <matplotlib.axis.XTick at 0x1a6debcba8>,\n",
       "  <matplotlib.axis.XTick at 0x1a6dec0160>,\n",
       "  <matplotlib.axis.XTick at 0x1a6dec05f8>,\n",
       "  <matplotlib.axis.XTick at 0x1a6dec0b00>],\n",
       " <a list of 12 Text xticklabel objects>)"
      ]
     },
     "execution_count": 295,
     "metadata": {},
     "output_type": "execute_result"
    },
    {
     "data": {
      "image/png": "[encoded data removed]",
      "text/plain": [
       "<Figure size 432x288 with 1 Axes>"
      ]
     },
     "metadata": {
      "needs_background": "light"
     },
     "output_type": "display_data"
    }
   ],
   "source": [
    "plt.plot(fl_month[\"month\"],fl_month[\"fraud_label\"])\n",
    "plt.xticks(fl_month[\"month\"])"
   ]
  },
  {
   "cell_type": "code",
   "execution_count": 208,
   "metadata": {},
   "outputs": [
    {
     "name": "stdout",
     "output_type": "stream",
     "text": [
      "Train on 583454 samples, validate on 250053 samples\n",
      "Epoch 1/10\n",
      " - 140s - loss: 0.0469 - acc: 0.9909 - val_loss: 0.0439 - val_acc: 0.9911\n",
      "Epoch 2/10\n",
      " - 144s - loss: 0.0457 - acc: 0.9910 - val_loss: 0.0443 - val_acc: 0.9914\n",
      "Epoch 3/10\n",
      " - 136s - loss: 0.0458 - acc: 0.9910 - val_loss: 0.0437 - val_acc: 0.9913\n",
      "Epoch 4/10\n",
      " - 135s - loss: 0.0456 - acc: 0.9911 - val_loss: 0.0444 - val_acc: 0.9915\n",
      "Epoch 5/10\n",
      " - 142s - loss: 0.0456 - acc: 0.9910 - val_loss: 0.0441 - val_acc: 0.9909\n",
      "Epoch 6/10\n",
      " - 136s - loss: 0.0456 - acc: 0.9910 - val_loss: 0.0448 - val_acc: 0.9908\n",
      "Epoch 7/10\n",
      " - 132s - loss: 0.0454 - acc: 0.9910 - val_loss: 0.0440 - val_acc: 0.9912\n",
      "Epoch 8/10\n",
      " - 140s - loss: 0.0454 - acc: 0.9910 - val_loss: 0.0438 - val_acc: 0.9911\n",
      "Epoch 9/10\n",
      " - 138s - loss: 0.0452 - acc: 0.9911 - val_loss: 0.0445 - val_acc: 0.9912\n",
      "Epoch 10/10\n",
      " - 148s - loss: 0.0452 - acc: 0.9912 - val_loss: 0.0444 - val_acc: 0.9913\n"
     ]
    },
    {
     "data": {
      "text/plain": [
       "<keras.callbacks.History at 0x1a6873da58>"
      ]
     },
     "execution_count": 208,
     "metadata": {},
     "output_type": "execute_result"
    }
   ],
   "source": [
    "import keras\n",
    "from keras.models import Sequential\n",
    "from keras.layers import Dense\n",
    "import pandas as pd\n",
    "import numpy as np\n",
    "from numpy.random import seed\n",
    "# set seed\n",
    "seed(1)\n",
    "model = Sequential()\n",
    "model.add(Dense(20, input_dim=20, activation='relu'))\n",
    "model.add(Dense(10, activation='relu'))\n",
    "model.add(Dense(1, activation='sigmoid'))\n",
    "# Compile model\n",
    "model.compile(loss='binary_crossentropy', optimizer='nadam', metrics=['accuracy'])\n",
    "# Fit the model\n",
    "keras.optimizers.SGD(lr=0.15, momentum=0.0, decay=0.0, nesterov=False)\n",
    "model.fit(X_train, y_train, validation_data=(X_test,y_test),epochs=10, batch_size=5, verbose=2)"
   ]
  },
  {
   "cell_type": "code",
   "execution_count": 232,
   "metadata": {},
   "outputs": [
    {
     "data": {
      "text/plain": [
       "0.5487240356083086"
      ]
     },
     "execution_count": 232,
     "metadata": {},
     "output_type": "execute_result"
    }
   ],
   "source": [
    "# calculate predictions\n",
    "predictions_train = model.predict(X_train)\n",
    "# combine the result to the original dataset in order to calculate the FDR\n",
    "df_train_pre = pd.DataFrame(predictions_train) \n",
    "train = pd.concat([X_train,y_train],axis = 1).reset_index()\n",
    "train['prediction_scor'] = df_train_pre\n",
    "train_fdr_top = train.sort_values('prediction_scor', ascending = False).head(int(len(X_train)*0.03))\n",
    "train_fdr = train_fdr_top[\"fraud_label\"].sum()/train.fraud_label.sum()\n",
    "train_fdr"
   ]
  },
  {
   "cell_type": "code",
   "execution_count": 233,
   "metadata": {},
   "outputs": [
    {
     "data": {
      "text/plain": [
       "0.5589056393076494"
      ]
     },
     "execution_count": 233,
     "metadata": {},
     "output_type": "execute_result"
    }
   ],
   "source": [
    "# calculate predictions\n",
    "predictions_test = model.predict(X_test)\n",
    "# combine the result to the original dataset in order to calculate the FDR\n",
    "df_test_pre = pd.DataFrame(predictions_test) \n",
    "test = pd.concat([X_test,y_test],axis = 1).reset_index()\n",
    "test['prediction_scor'] = df_test_pre\n",
    "test_fdr_top = test.sort_values('prediction_scor', ascending = False).head(int(len(X_test)*0.03))\n",
    "test_fdr = test_fdr_top['fraud_label'].sum()/test.fraud_label.sum()\n",
    "test_fdr"
   ]
  },
  {
   "cell_type": "code",
   "execution_count": 231,
   "metadata": {},
   "outputs": [
    {
     "data": {
      "text/plain": [
       "0.5331098072087175"
      ]
     },
     "execution_count": 231,
     "metadata": {},
     "output_type": "execute_result"
    }
   ],
   "source": [
    "# calculate predictions\n",
    "predictions_valid = model.predict(X_valid)\n",
    "# combine the result to the original dataset in order to calculate the FDR\n",
    "df_valid_pre = pd.DataFrame(predictions_valid) \n",
    "valid = pd.concat([X_valid,y_valid],axis = 1).reset_index()\n",
    "valid['prediction_scor'] = df_valid_pre\n",
    "valid_fdr_top = valid.sort_values('prediction_scor', ascending = False).head(int(len(X_valid)*0.03))\n",
    "valid_fdr = valid_fdr_top['fraud_label'].sum()/valid.fraud_label.sum()\n",
    "valid_fdr"
   ]
  },
  {
   "cell_type": "code",
   "execution_count": 255,
   "metadata": {},
   "outputs": [
    {
     "data": {
      "text/plain": [
       "3582"
      ]
     },
     "execution_count": 255,
     "metadata": {},
     "output_type": "execute_result"
    }
   ],
   "source": [
    "sum(test[\"fraud_label\"])"
   ]
  },
  {
   "cell_type": "code",
   "execution_count": 254,
   "metadata": {},
   "outputs": [
    {
     "data": {
      "text/plain": [
       "250053"
      ]
     },
     "execution_count": 254,
     "metadata": {},
     "output_type": "execute_result"
    }
   ],
   "source": [
    "len(test)"
   ]
  },
  {
   "cell_type": "code",
   "execution_count": null,
   "metadata": {},
   "outputs": [],
   "source": []
  },
  {
   "cell_type": "code",
   "execution_count": 245,
   "metadata": {},
   "outputs": [
    {
     "name": "stderr",
     "output_type": "stream",
     "text": [
      "/anaconda3/lib/python3.7/site-packages/ipykernel_launcher.py:12: SettingWithCopyWarning: \n",
      "A value is trying to be set on a copy of a slice from a DataFrame\n",
      "\n",
      "See the caveats in the documentation: http://pandas.pydata.org/pandas-docs/stable/indexing.html#indexing-view-versus-copy\n",
      "  if sys.path[0] == '':\n",
      "/anaconda3/lib/python3.7/site-packages/ipykernel_launcher.py:15: SettingWithCopyWarning: \n",
      "A value is trying to be set on a copy of a slice from a DataFrame\n",
      "\n",
      "See the caveats in the documentation: http://pandas.pydata.org/pandas-docs/stable/indexing.html#indexing-view-versus-copy\n",
      "  from ipykernel import kernelapp as app\n"
     ]
    }
   ],
   "source": [
    "traintable  = pd.DataFrame()\n",
    "traintable['Population Bin #'] = range(1,21)\n",
    "traintable['Total # Records'] = int(train.shape[0]*0.01)\n",
    "traintable['# Bads'] = range(1,21)\n",
    "for i in range(20):\n",
    "    traintable['# Bads'][i] = train.sort_values('prediction_scor', ascending = False)['fraud_label'][i*5834:i*5834+5834].sum()\n",
    "traintable['# Goods'] = traintable['Total # Records'] - traintable['# Bads']\n",
    "traintable['% Goods'] = traintable['# Goods'] /traintable['Total # Records']*100\n",
    "traintable['% Bads'] = traintable['# Bads'] /traintable['Total # Records']*100\n",
    "traintable['Cumulative Bad'] = range(20)\n",
    "for i in range(20):\n",
    "    traintable['Cumulative Bad'][i]  = traintable['# Bads'][:i+1].sum()\n",
    "traintable['Cumulative Good'] = range(20)\n",
    "for i in range(20):\n",
    "    traintable['Cumulative Good'][i]  = traintable['# Goods'][:i+1].sum()\n",
    "traintable['% Bad (FDR)'] = traintable['Cumulative Bad'] /train['fraud_label'].sum()*100\n",
    "traintable['% Good'] = traintable['Cumulative Good'] /(train.shape[0]-train['fraud_label'].sum())*100\n",
    "traintable['KS'] = traintable['% Bad (FDR)']-traintable['% Good'] \n",
    "traintable['FPR'] = traintable['Cumulative Good'] /traintable['Cumulative Bad']"
   ]
  },
  {
   "cell_type": "code",
   "execution_count": 246,
   "metadata": {},
   "outputs": [],
   "source": [
    "traintable.to_csv(\"traintable.csv\")"
   ]
  },
  {
   "cell_type": "code",
   "execution_count": 247,
   "metadata": {
    "scrolled": true
   },
   "outputs": [
    {
     "name": "stderr",
     "output_type": "stream",
     "text": [
      "/anaconda3/lib/python3.7/site-packages/ipykernel_launcher.py:12: SettingWithCopyWarning: \n",
      "A value is trying to be set on a copy of a slice from a DataFrame\n",
      "\n",
      "See the caveats in the documentation: http://pandas.pydata.org/pandas-docs/stable/indexing.html#indexing-view-versus-copy\n",
      "  if sys.path[0] == '':\n",
      "/anaconda3/lib/python3.7/site-packages/ipykernel_launcher.py:15: SettingWithCopyWarning: \n",
      "A value is trying to be set on a copy of a slice from a DataFrame\n",
      "\n",
      "See the caveats in the documentation: http://pandas.pydata.org/pandas-docs/stable/indexing.html#indexing-view-versus-copy\n",
      "  from ipykernel import kernelapp as app\n"
     ]
    }
   ],
   "source": [
    "testtable  = pd.DataFrame()\n",
    "testtable['Population Bin #'] = range(1,21)\n",
    "testtable['Total # Records'] = int(test.shape[0]*0.01)\n",
    "testtable['# Bads'] = range(1,21)\n",
    "for i in range(20):\n",
    "    testtable['# Bads'][i] = test.sort_values('prediction_scor', ascending = False)['fraud_label'][i*2500:i*2500+2500].sum()\n",
    "testtable['# Goods'] = testtable['Total # Records'] - testtable['# Bads']\n",
    "testtable['% Goods'] = testtable['# Goods'] /testtable['Total # Records']*100\n",
    "testtable['% Bads'] = testtable['# Bads'] /testtable['Total # Records']*100\n",
    "testtable['Cumulative Bad'] = range(20)\n",
    "for i in range(20):\n",
    "    testtable['Cumulative Bad'][i]  = testtable['# Bads'][:i+1].sum()\n",
    "testtable['Cumulative Good'] = range(20)\n",
    "for i in range(20):\n",
    "    testtable['Cumulative Good'][i]  = testtable['# Goods'][:i+1].sum()\n",
    "testtable['% Bad (FDR)'] = testtable['Cumulative Bad'] /test['fraud_label'].sum()*100\n",
    "testtable['% Good'] = testtable['Cumulative Good'] /(test.shape[0]-test['fraud_label'].sum())*100\n",
    "testtable['KS'] = testtable['% Bad (FDR)']-testtable['% Good'] \n",
    "testtable['FPR'] = testtable['Cumulative Good'] /testtable['Cumulative Bad']"
   ]
  },
  {
   "cell_type": "code",
   "execution_count": 248,
   "metadata": {},
   "outputs": [],
   "source": [
    "testtable.to_csv(\"testtable.csv\")"
   ]
  },
  {
   "cell_type": "code",
   "execution_count": 296,
   "metadata": {},
   "outputs": [
    {
     "data": {
      "text/plain": [
       "1664.93"
      ]
     },
     "execution_count": 296,
     "metadata": {},
     "output_type": "execute_result"
    }
   ],
   "source": [
    "len(valid)*0.01"
   ]
  },
  {
   "cell_type": "code",
   "execution_count": 297,
   "metadata": {
    "scrolled": true
   },
   "outputs": [
    {
     "name": "stderr",
     "output_type": "stream",
     "text": [
      "/anaconda3/lib/python3.7/site-packages/ipykernel_launcher.py:12: SettingWithCopyWarning: \n",
      "A value is trying to be set on a copy of a slice from a DataFrame\n",
      "\n",
      "See the caveats in the documentation: http://pandas.pydata.org/pandas-docs/stable/indexing.html#indexing-view-versus-copy\n",
      "  if sys.path[0] == '':\n",
      "/anaconda3/lib/python3.7/site-packages/ipykernel_launcher.py:15: SettingWithCopyWarning: \n",
      "A value is trying to be set on a copy of a slice from a DataFrame\n",
      "\n",
      "See the caveats in the documentation: http://pandas.pydata.org/pandas-docs/stable/indexing.html#indexing-view-versus-copy\n",
      "  from ipykernel import kernelapp as app\n"
     ]
    }
   ],
   "source": [
    "oottable  = pd.DataFrame()\n",
    "oottable['Population Bin #'] = range(1,21)\n",
    "oottable['Total # Records'] = int(valid.shape[0]*0.01)\n",
    "oottable['# Bads'] = range(1,21)\n",
    "for i in range(20):\n",
    "    oottable['# Bads'][i] = valid.sort_values('prediction_scor', ascending = False)['fraud_label'][i*1664:i*1664+1664].sum()\n",
    "oottable['# Goods'] = oottable['Total # Records'] - oottable['# Bads']\n",
    "oottable['% Goods'] = oottable['# Goods'] /oottable['Total # Records']*100\n",
    "oottable['% Bads'] = oottable['# Bads'] /oottable['Total # Records']*100\n",
    "oottable['Cumulative Bad'] = range(20)\n",
    "for i in range(20):\n",
    "    oottable['Cumulative Bad'][i]  = oottable['# Bads'][:i+1].sum()\n",
    "oottable['Cumulative Good'] = range(20)\n",
    "for i in range(20):\n",
    "    oottable['Cumulative Good'][i]  = oottable['# Goods'][:i+1].sum()\n",
    "oottable['% Bad (FDR)'] = oottable['Cumulative Bad'] /valid['fraud_label'].sum()*100\n",
    "oottable['% Good'] = oottable['Cumulative Good'] /(valid.shape[0]-valid['fraud_label'].sum())*100\n",
    "oottable['KS'] = oottable['% Bad (FDR)']-oottable['% Good'] \n",
    "oottable['FPR'] = oottable['Cumulative Good'] /oottable['Cumulative Bad']"
   ]
  },
  {
   "cell_type": "code",
   "execution_count": 298,
   "metadata": {},
   "outputs": [],
   "source": [
    "oottable.to_csv(\"oottable.csv\")"
   ]
  },
  {
   "cell_type": "code",
   "execution_count": 312,
   "metadata": {},
   "outputs": [
    {
     "data": {
      "text/plain": [
       "2386"
      ]
     },
     "execution_count": 312,
     "metadata": {},
     "output_type": "execute_result"
    }
   ],
   "source": [
    "sum(valid[\"fraud_label\"])"
   ]
  },
  {
   "cell_type": "code",
   "execution_count": 212,
   "metadata": {},
   "outputs": [],
   "source": [
    "pre = pd.DataFrame(predictions_valid,columns=['pro'])"
   ]
  },
  {
   "cell_type": "code",
   "execution_count": 213,
   "metadata": {},
   "outputs": [],
   "source": [
    "pre['ac'] = valid['fraud_label']"
   ]
  },
  {
   "cell_type": "code",
   "execution_count": 214,
   "metadata": {},
   "outputs": [],
   "source": [
    "pre = pre.sort_values(by=\"pro\",ascending=False)"
   ]
  },
  {
   "cell_type": "code",
   "execution_count": 215,
   "metadata": {},
   "outputs": [],
   "source": [
    "pre = pre.reset_index()"
   ]
  },
  {
   "cell_type": "code",
   "execution_count": 216,
   "metadata": {},
   "outputs": [],
   "source": [
    "pre['pre']=pre['pro']\n",
    "pre['pre'] = pre['pre']>pre['pre'].median()"
   ]
  },
  {
   "cell_type": "code",
   "execution_count": 217,
   "metadata": {},
   "outputs": [],
   "source": [
    "pre['pred']=pre['pre'].apply(lambda x : int(x))"
   ]
  },
  {
   "cell_type": "code",
   "execution_count": 221,
   "metadata": {},
   "outputs": [],
   "source": [
    "pre['money']=pre['pre']"
   ]
  },
  {
   "cell_type": "code",
   "execution_count": 222,
   "metadata": {},
   "outputs": [],
   "source": [
    "pre.to_csv(\"pre.csv\")"
   ]
  },
  {
   "cell_type": "code",
   "execution_count": 220,
   "metadata": {},
   "outputs": [
    {
     "ename": "KeyboardInterrupt",
     "evalue": "",
     "output_type": "error",
     "traceback": [
      "\u001b[0;31m---------------------------------------------------------------------------\u001b[0m",
      "\u001b[0;31mKeyboardInterrupt\u001b[0m                         Traceback (most recent call last)",
      "\u001b[0;32m<ipython-input-220-6a998699a496>\u001b[0m in \u001b[0;36m<module>\u001b[0;34m\u001b[0m\n\u001b[1;32m      4\u001b[0m             \u001b[0mpre\u001b[0m\u001b[0;34m.\u001b[0m\u001b[0mloc\u001b[0m\u001b[0;34m[\u001b[0m\u001b[0mi\u001b[0m\u001b[0;34m,\u001b[0m\u001b[0;34m\"money\"\u001b[0m\u001b[0;34m]\u001b[0m\u001b[0;34m=\u001b[0m\u001b[0;36m6000\u001b[0m\u001b[0;34m\u001b[0m\u001b[0m\n\u001b[1;32m      5\u001b[0m         \u001b[0;32melse\u001b[0m\u001b[0;34m:\u001b[0m\u001b[0;34m\u001b[0m\u001b[0m\n\u001b[0;32m----> 6\u001b[0;31m             \u001b[0mpre\u001b[0m\u001b[0;34m.\u001b[0m\u001b[0mloc\u001b[0m\u001b[0;34m[\u001b[0m\u001b[0mi\u001b[0m\u001b[0;34m,\u001b[0m\u001b[0;34m'money'\u001b[0m\u001b[0;34m]\u001b[0m\u001b[0;34m=\u001b[0m\u001b[0;34m-\u001b[0m\u001b[0;36m50\u001b[0m\u001b[0;34m\u001b[0m\u001b[0m\n\u001b[0m\u001b[1;32m      7\u001b[0m     \u001b[0;32melse\u001b[0m\u001b[0;34m:\u001b[0m\u001b[0;34m\u001b[0m\u001b[0m\n\u001b[1;32m      8\u001b[0m         \u001b[0mpre\u001b[0m\u001b[0;34m.\u001b[0m\u001b[0mloc\u001b[0m\u001b[0;34m[\u001b[0m\u001b[0mi\u001b[0m\u001b[0;34m,\u001b[0m\u001b[0;34m'money'\u001b[0m\u001b[0;34m]\u001b[0m\u001b[0;34m=\u001b[0m\u001b[0;36m0\u001b[0m\u001b[0;34m\u001b[0m\u001b[0m\n",
      "\u001b[0;32m/anaconda3/lib/python3.7/site-packages/pandas/core/indexing.py\u001b[0m in \u001b[0;36m__setitem__\u001b[0;34m(self, key, value)\u001b[0m\n\u001b[1;32m    187\u001b[0m             \u001b[0mkey\u001b[0m \u001b[0;34m=\u001b[0m \u001b[0mcom\u001b[0m\u001b[0;34m.\u001b[0m\u001b[0m_apply_if_callable\u001b[0m\u001b[0;34m(\u001b[0m\u001b[0mkey\u001b[0m\u001b[0;34m,\u001b[0m \u001b[0mself\u001b[0m\u001b[0;34m.\u001b[0m\u001b[0mobj\u001b[0m\u001b[0;34m)\u001b[0m\u001b[0;34m\u001b[0m\u001b[0m\n\u001b[1;32m    188\u001b[0m         \u001b[0mindexer\u001b[0m \u001b[0;34m=\u001b[0m \u001b[0mself\u001b[0m\u001b[0;34m.\u001b[0m\u001b[0m_get_setitem_indexer\u001b[0m\u001b[0;34m(\u001b[0m\u001b[0mkey\u001b[0m\u001b[0;34m)\u001b[0m\u001b[0;34m\u001b[0m\u001b[0m\n\u001b[0;32m--> 189\u001b[0;31m         \u001b[0mself\u001b[0m\u001b[0;34m.\u001b[0m\u001b[0m_setitem_with_indexer\u001b[0m\u001b[0;34m(\u001b[0m\u001b[0mindexer\u001b[0m\u001b[0;34m,\u001b[0m \u001b[0mvalue\u001b[0m\u001b[0;34m)\u001b[0m\u001b[0;34m\u001b[0m\u001b[0m\n\u001b[0m\u001b[1;32m    190\u001b[0m \u001b[0;34m\u001b[0m\u001b[0m\n\u001b[1;32m    191\u001b[0m     \u001b[0;32mdef\u001b[0m \u001b[0m_validate_key\u001b[0m\u001b[0;34m(\u001b[0m\u001b[0mself\u001b[0m\u001b[0;34m,\u001b[0m \u001b[0mkey\u001b[0m\u001b[0;34m,\u001b[0m \u001b[0maxis\u001b[0m\u001b[0;34m)\u001b[0m\u001b[0;34m:\u001b[0m\u001b[0;34m\u001b[0m\u001b[0m\n",
      "\u001b[0;32m/anaconda3/lib/python3.7/site-packages/pandas/core/indexing.py\u001b[0m in \u001b[0;36m_setitem_with_indexer\u001b[0;34m(self, indexer, value)\u001b[0m\n\u001b[1;32m    613\u001b[0m                 \u001b[0;31m# scalar\u001b[0m\u001b[0;34m\u001b[0m\u001b[0;34m\u001b[0m\u001b[0m\n\u001b[1;32m    614\u001b[0m                 \u001b[0;32mfor\u001b[0m \u001b[0mitem\u001b[0m \u001b[0;32min\u001b[0m \u001b[0mlabels\u001b[0m\u001b[0;34m:\u001b[0m\u001b[0;34m\u001b[0m\u001b[0m\n\u001b[0;32m--> 615\u001b[0;31m                     \u001b[0msetter\u001b[0m\u001b[0;34m(\u001b[0m\u001b[0mitem\u001b[0m\u001b[0;34m,\u001b[0m \u001b[0mvalue\u001b[0m\u001b[0;34m)\u001b[0m\u001b[0;34m\u001b[0m\u001b[0m\n\u001b[0m\u001b[1;32m    616\u001b[0m \u001b[0;34m\u001b[0m\u001b[0m\n\u001b[1;32m    617\u001b[0m         \u001b[0;32melse\u001b[0m\u001b[0;34m:\u001b[0m\u001b[0;34m\u001b[0m\u001b[0m\n",
      "\u001b[0;32m/anaconda3/lib/python3.7/site-packages/pandas/core/indexing.py\u001b[0m in \u001b[0;36msetter\u001b[0;34m(item, v)\u001b[0m\n\u001b[1;32m    536\u001b[0m                     \u001b[0;31m# set the item, possibly having a dtype change\u001b[0m\u001b[0;34m\u001b[0m\u001b[0;34m\u001b[0m\u001b[0m\n\u001b[1;32m    537\u001b[0m                     \u001b[0ms\u001b[0m\u001b[0;34m.\u001b[0m\u001b[0m_consolidate_inplace\u001b[0m\u001b[0;34m(\u001b[0m\u001b[0;34m)\u001b[0m\u001b[0;34m\u001b[0m\u001b[0m\n\u001b[0;32m--> 538\u001b[0;31m                     \u001b[0ms\u001b[0m \u001b[0;34m=\u001b[0m \u001b[0ms\u001b[0m\u001b[0;34m.\u001b[0m\u001b[0mcopy\u001b[0m\u001b[0;34m(\u001b[0m\u001b[0;34m)\u001b[0m\u001b[0;34m\u001b[0m\u001b[0m\n\u001b[0m\u001b[1;32m    539\u001b[0m                     \u001b[0ms\u001b[0m\u001b[0;34m.\u001b[0m\u001b[0m_data\u001b[0m \u001b[0;34m=\u001b[0m \u001b[0ms\u001b[0m\u001b[0;34m.\u001b[0m\u001b[0m_data\u001b[0m\u001b[0;34m.\u001b[0m\u001b[0msetitem\u001b[0m\u001b[0;34m(\u001b[0m\u001b[0mindexer\u001b[0m\u001b[0;34m=\u001b[0m\u001b[0mpi\u001b[0m\u001b[0;34m,\u001b[0m \u001b[0mvalue\u001b[0m\u001b[0;34m=\u001b[0m\u001b[0mv\u001b[0m\u001b[0;34m)\u001b[0m\u001b[0;34m\u001b[0m\u001b[0m\n\u001b[1;32m    540\u001b[0m                     \u001b[0ms\u001b[0m\u001b[0;34m.\u001b[0m\u001b[0m_maybe_update_cacher\u001b[0m\u001b[0;34m(\u001b[0m\u001b[0mclear\u001b[0m\u001b[0;34m=\u001b[0m\u001b[0;32mTrue\u001b[0m\u001b[0;34m)\u001b[0m\u001b[0;34m\u001b[0m\u001b[0m\n",
      "\u001b[0;32m/anaconda3/lib/python3.7/site-packages/pandas/core/generic.py\u001b[0m in \u001b[0;36mcopy\u001b[0;34m(self, deep)\u001b[0m\n\u001b[1;32m   5112\u001b[0m         \u001b[0mdtype\u001b[0m\u001b[0;34m:\u001b[0m \u001b[0mobject\u001b[0m\u001b[0;34m\u001b[0m\u001b[0m\n\u001b[1;32m   5113\u001b[0m         \"\"\"\n\u001b[0;32m-> 5114\u001b[0;31m         \u001b[0mdata\u001b[0m \u001b[0;34m=\u001b[0m \u001b[0mself\u001b[0m\u001b[0;34m.\u001b[0m\u001b[0m_data\u001b[0m\u001b[0;34m.\u001b[0m\u001b[0mcopy\u001b[0m\u001b[0;34m(\u001b[0m\u001b[0mdeep\u001b[0m\u001b[0;34m=\u001b[0m\u001b[0mdeep\u001b[0m\u001b[0;34m)\u001b[0m\u001b[0;34m\u001b[0m\u001b[0m\n\u001b[0m\u001b[1;32m   5115\u001b[0m         \u001b[0;32mreturn\u001b[0m \u001b[0mself\u001b[0m\u001b[0;34m.\u001b[0m\u001b[0m_constructor\u001b[0m\u001b[0;34m(\u001b[0m\u001b[0mdata\u001b[0m\u001b[0;34m)\u001b[0m\u001b[0;34m.\u001b[0m\u001b[0m__finalize__\u001b[0m\u001b[0;34m(\u001b[0m\u001b[0mself\u001b[0m\u001b[0;34m)\u001b[0m\u001b[0;34m\u001b[0m\u001b[0m\n\u001b[1;32m   5116\u001b[0m \u001b[0;34m\u001b[0m\u001b[0m\n",
      "\u001b[0;32m/anaconda3/lib/python3.7/site-packages/pandas/core/internals.py\u001b[0m in \u001b[0;36mcopy\u001b[0;34m(self, deep, mgr)\u001b[0m\n\u001b[1;32m   3918\u001b[0m             \u001b[0mnew_axes\u001b[0m \u001b[0;34m=\u001b[0m \u001b[0mlist\u001b[0m\u001b[0;34m(\u001b[0m\u001b[0mself\u001b[0m\u001b[0;34m.\u001b[0m\u001b[0maxes\u001b[0m\u001b[0;34m)\u001b[0m\u001b[0;34m\u001b[0m\u001b[0m\n\u001b[1;32m   3919\u001b[0m         return self.apply('copy', axes=new_axes, deep=deep,\n\u001b[0;32m-> 3920\u001b[0;31m                           do_integrity_check=False)\n\u001b[0m\u001b[1;32m   3921\u001b[0m \u001b[0;34m\u001b[0m\u001b[0m\n\u001b[1;32m   3922\u001b[0m     \u001b[0;32mdef\u001b[0m \u001b[0mas_array\u001b[0m\u001b[0;34m(\u001b[0m\u001b[0mself\u001b[0m\u001b[0;34m,\u001b[0m \u001b[0mtranspose\u001b[0m\u001b[0;34m=\u001b[0m\u001b[0;32mFalse\u001b[0m\u001b[0;34m,\u001b[0m \u001b[0mitems\u001b[0m\u001b[0;34m=\u001b[0m\u001b[0;32mNone\u001b[0m\u001b[0;34m)\u001b[0m\u001b[0;34m:\u001b[0m\u001b[0;34m\u001b[0m\u001b[0m\n",
      "\u001b[0;32m/anaconda3/lib/python3.7/site-packages/pandas/core/internals.py\u001b[0m in \u001b[0;36mapply\u001b[0;34m(self, f, axes, filter, do_integrity_check, consolidate, **kwargs)\u001b[0m\n\u001b[1;32m   3579\u001b[0m \u001b[0;34m\u001b[0m\u001b[0m\n\u001b[1;32m   3580\u001b[0m             \u001b[0mkwargs\u001b[0m\u001b[0;34m[\u001b[0m\u001b[0;34m'mgr'\u001b[0m\u001b[0;34m]\u001b[0m \u001b[0;34m=\u001b[0m \u001b[0mself\u001b[0m\u001b[0;34m\u001b[0m\u001b[0m\n\u001b[0;32m-> 3581\u001b[0;31m             \u001b[0mapplied\u001b[0m \u001b[0;34m=\u001b[0m \u001b[0mgetattr\u001b[0m\u001b[0;34m(\u001b[0m\u001b[0mb\u001b[0m\u001b[0;34m,\u001b[0m \u001b[0mf\u001b[0m\u001b[0;34m)\u001b[0m\u001b[0;34m(\u001b[0m\u001b[0;34m**\u001b[0m\u001b[0mkwargs\u001b[0m\u001b[0;34m)\u001b[0m\u001b[0;34m\u001b[0m\u001b[0m\n\u001b[0m\u001b[1;32m   3582\u001b[0m             \u001b[0mresult_blocks\u001b[0m \u001b[0;34m=\u001b[0m \u001b[0m_extend_blocks\u001b[0m\u001b[0;34m(\u001b[0m\u001b[0mapplied\u001b[0m\u001b[0;34m,\u001b[0m \u001b[0mresult_blocks\u001b[0m\u001b[0;34m)\u001b[0m\u001b[0;34m\u001b[0m\u001b[0m\n\u001b[1;32m   3583\u001b[0m \u001b[0;34m\u001b[0m\u001b[0m\n",
      "\u001b[0;32m/anaconda3/lib/python3.7/site-packages/pandas/core/internals.py\u001b[0m in \u001b[0;36mcopy\u001b[0;34m(self, deep, mgr)\u001b[0m\n\u001b[1;32m    776\u001b[0m         \u001b[0mvalues\u001b[0m \u001b[0;34m=\u001b[0m \u001b[0mself\u001b[0m\u001b[0;34m.\u001b[0m\u001b[0mvalues\u001b[0m\u001b[0;34m\u001b[0m\u001b[0m\n\u001b[1;32m    777\u001b[0m         \u001b[0;32mif\u001b[0m \u001b[0mdeep\u001b[0m\u001b[0;34m:\u001b[0m\u001b[0;34m\u001b[0m\u001b[0m\n\u001b[0;32m--> 778\u001b[0;31m             \u001b[0mvalues\u001b[0m \u001b[0;34m=\u001b[0m \u001b[0mvalues\u001b[0m\u001b[0;34m.\u001b[0m\u001b[0mcopy\u001b[0m\u001b[0;34m(\u001b[0m\u001b[0;34m)\u001b[0m\u001b[0;34m\u001b[0m\u001b[0m\n\u001b[0m\u001b[1;32m    779\u001b[0m         \u001b[0;32mreturn\u001b[0m \u001b[0mself\u001b[0m\u001b[0;34m.\u001b[0m\u001b[0mmake_block_same_class\u001b[0m\u001b[0;34m(\u001b[0m\u001b[0mvalues\u001b[0m\u001b[0;34m)\u001b[0m\u001b[0;34m\u001b[0m\u001b[0m\n\u001b[1;32m    780\u001b[0m \u001b[0;34m\u001b[0m\u001b[0m\n",
      "\u001b[0;31mKeyboardInterrupt\u001b[0m: "
     ]
    }
   ],
   "source": [
    "for i in range(len(pre)):\n",
    "    if pre.loc[i,\"pred\"]==1:\n",
    "        if pre.loc[i,'ac']==1:\n",
    "            pre.loc[i,\"money\"]=6000\n",
    "        else:\n",
    "            pre.loc[i,'money']=-50\n",
    "    else:\n",
    "        pre.loc[i,'money']=0"
   ]
  },
  {
   "cell_type": "code",
   "execution_count": null,
   "metadata": {},
   "outputs": [],
   "source": []
  }
 ],
 "metadata": {
  "kernelspec": {
   "display_name": "Python 3",
   "language": "python",
   "name": "python3"
  },
  "language_info": {
   "codemirror_mode": {
    "name": "ipython",
    "version": 3
   },
   "file_extension": ".py",
   "mimetype": "text/x-python",
   "name": "python",
   "nbconvert_exporter": "python",
   "pygments_lexer": "ipython3",
   "version": "3.7.4"
  }
 },
 "nbformat": 4,
 "nbformat_minor": 2
}
