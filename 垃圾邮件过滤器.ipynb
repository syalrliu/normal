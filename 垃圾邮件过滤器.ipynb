{
 "cells": [
  {
   "cell_type": "code",
   "execution_count": 97,
   "metadata": {},
   "outputs": [],
   "source": [
    "import os\n",
    "from collections import Counter\n",
    "import numpy as np\n",
    "from sklearn.naive_bayes import MultinomialNB, GaussianNB, BernoulliNB\n",
    "from sklearn.svm import SVC, NuSVC, LinearSVC\n",
    "from sklearn.model_selection import train_test_split\n",
    "from sklearn.metrics import confusion_matrix"
   ]
  },
  {
   "cell_type": "code",
   "execution_count": 77,
   "metadata": {},
   "outputs": [],
   "source": [
    "def make_Dictionary(train_dir):\n",
    "    emails = [os.path.join(train_dir,f) for f in os.listdir(train_dir)] \n",
    "    all_words = [] \n",
    "    for mail in emails: \n",
    "        with open(mail, encoding=\"utf8\", errors='ignore') as m:\n",
    "            for i,line in enumerate(m):\n",
    "                if i == 2: #Body of email is only 3rd line of text file\n",
    "                    words = line.split()\n",
    "                    all_words += words\n",
    "                    dictionary = Counter(all_words) \n",
    "                    \n",
    "    list_to_remove = list(dictionary.keys())\n",
    "    for item in list_to_remove:\n",
    "        if item.isalpha() == False: \n",
    "            del dictionary[item]\n",
    "        elif len(item) == 1:\n",
    "            del dictionary[item]\n",
    "\n",
    "    dictionary = dictionary.most_common(3000)\n",
    "    \n",
    "    return dictionary"
   ]
  },
  {
   "cell_type": "code",
   "execution_count": 78,
   "metadata": {},
   "outputs": [],
   "source": [
    "def extract_features(mail_dir,dictionary): \n",
    "    files = [os.path.join(mail_dir,fi) for fi in os.listdir(mail_dir)]\n",
    "    features_matrix = np.zeros((len(files),3000))\n",
    "    docID = 0;\n",
    "    for fil in files:\n",
    "        with open(fil, encoding=\"utf8\", errors='ignore') as fi:\n",
    "            for i,line in enumerate(fi):\n",
    "                 if i == 2:\n",
    "                        words = line.split()\n",
    "                        for word in words:\n",
    "                            wordID = 0\n",
    "                            for i,d in enumerate(dictionary):\n",
    "                                if d[0] == word:\n",
    "                                    wordID = i\n",
    "                                    features_matrix[docID,wordID] = words.count(word)\n",
    "        docID = docID + 1\n",
    "\n",
    "    return features_matrix"
   ]
  },
  {
   "cell_type": "code",
   "execution_count": 79,
   "metadata": {},
   "outputs": [],
   "source": [
    "ham_filePath = '/Users/liulijia/Downloads/enron1/ham'\n",
    "spam_filePath = '/Users/liulijia/Downloads/enron1/spam'"
   ]
  },
  {
   "cell_type": "code",
   "execution_count": 80,
   "metadata": {},
   "outputs": [],
   "source": [
    "ham_len=len(os.listdir(ham_filePath))\n",
    "spam_len=len(os.listdir(spam_filePath))"
   ]
  },
  {
   "cell_type": "code",
   "execution_count": 81,
   "metadata": {},
   "outputs": [],
   "source": [
    "dict_ham=make_Dictionary(ham_filePath)\n",
    "ham_matrix=extract_features(ham_filePath,dict_ham)\n",
    "\n",
    "dict_spam=make_Dictionary(spam_filePath)\n",
    "spam_matrix=extract_features(spam_filePath,dict_spam)"
   ]
  },
  {
   "cell_type": "code",
   "execution_count": 90,
   "metadata": {},
   "outputs": [],
   "source": [
    "x=np.concatenate((ham_matrix,spam_matrix),axis=0)\n",
    "y= np.zeros(ham_len+spam_len)\n",
    "y[ham_len:]=1"
   ]
  },
  {
   "cell_type": "code",
   "execution_count": 92,
   "metadata": {},
   "outputs": [],
   "source": [
    "x_train, x_test, y_train, y_test = train_test_split(x, y, test_size=0.5)"
   ]
  },
  {
   "cell_type": "code",
   "execution_count": 93,
   "metadata": {},
   "outputs": [],
   "source": [
    "model1 = MultinomialNB()\n",
    "model2 = LinearSVC()"
   ]
  },
  {
   "cell_type": "code",
   "execution_count": 98,
   "metadata": {},
   "outputs": [
    {
     "name": "stdout",
     "output_type": "stream",
     "text": [
      "[[1668  184]\n",
      " [ 654   80]]\n"
     ]
    }
   ],
   "source": [
    "model1.fit(x_train,y_train)\n",
    "result1 = model1.predict(x_test)\n",
    "print(confusion_matrix(y_test,result1))"
   ]
  },
  {
   "cell_type": "code",
   "execution_count": 99,
   "metadata": {},
   "outputs": [
    {
     "name": "stdout",
     "output_type": "stream",
     "text": [
      "[[1455  397]\n",
      " [ 550  184]]\n"
     ]
    }
   ],
   "source": [
    "model2.fit(x_train,y_train)\n",
    "result2 = model2.predict(x_test)\n",
    "print(confusion_matrix(y_test,result2))"
   ]
  },
  {
   "cell_type": "code",
   "execution_count": null,
   "metadata": {},
   "outputs": [],
   "source": []
  }
 ],
 "metadata": {
  "kernelspec": {
   "display_name": "Python 3",
   "language": "python",
   "name": "python3"
  },
  "language_info": {
   "codemirror_mode": {
    "name": "ipython",
    "version": 3
   },
   "file_extension": ".py",
   "mimetype": "text/x-python",
   "name": "python",
   "nbconvert_exporter": "python",
   "pygments_lexer": "ipython3",
   "version": "3.7.4"
  }
 },
 "nbformat": 4,
 "nbformat_minor": 2
}
